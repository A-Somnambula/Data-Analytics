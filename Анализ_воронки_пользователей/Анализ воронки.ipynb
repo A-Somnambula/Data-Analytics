{
 "cells": [
  {
   "cell_type": "markdown",
   "metadata": {},
   "source": [
    "#### ЛЕГЕНДА\n",
    "Анализ мобильной игры Quiz Freeze.\n",
    "Необходимо исследовать поведение пользователей в обновлённом приложении и проверить несколько гипотез.\n",
    "\n",
    "**Гипотеза 1.**\n",
    "По идее, должна быть разница в поведении групп, которые проходят и не проходят обучение. Но так ли это? Влияет ли обучение на скорость прохождения других этапов игры?\n",
    "\n",
    "**Гипотеза 2.**\n",
    "Кажется, повторное прохождение обучения положительно влияет на оплату, верно?\n",
    "\n",
    "**Гипотеза 3.**\n",
    "Если пользователь сначала выбирает сложность обучения, будет ли он потом проходить обучение?\n",
    "\n",
    "\n",
    "##### ЗАДАЧИ:\n",
    "В рамках проверки гипотез необходимо решить три задачи:\n",
    "\n",
    "1. Определить, насколько обучение сокращает время прохождения этапов игры.\n",
    "2. Доказать, что успешное обучение само по себе влияет на оплату и не имеет значения то, каким этапом оно шло.\n",
    "3. Определить, насколько прозрачен процесс взаимодействия с игрой.\n",
    "\n",
    "##### КОНКРЕТНЫЕ ШАГИ (ФОРМАЛИЗОВАННЫЕ ЗАДАЧИ):\n",
    "1. Сравнить время прохождения различных этапов для пользователей, которые завершили обучение, и пользователей, не начинавших обучение. Если показатель отличается, выяснить, насколько.\n",
    "2. Проверить, существует ли зависимость между вероятностью оплаты вопросов и количеством обучений, которые начинал или завершал пользователь. \n",
    "3. Выяснить, как часто пользователи начинают обучение после выбора уровня сложности. (Это позволит оценить прозрачность процесса взаимодействия с игрой: если пользователи после выбора уровня сложности обращаются к обучению, значит, работа с приложением непонятна.)"
   ]
  },
  {
   "cell_type": "markdown",
   "metadata": {},
   "source": [
    "##### Загружаем библиотеки:"
   ]
  },
  {
   "cell_type": "code",
   "execution_count": 114,
   "metadata": {},
   "outputs": [],
   "source": [
    "import matplotlib.pyplot as plt\n",
    "import pandas as pd\n",
    "import plotly.express as px"
   ]
  },
  {
   "cell_type": "markdown",
   "metadata": {},
   "source": [
    "##### Загружаем файлы:"
   ]
  },
  {
   "cell_type": "code",
   "execution_count": 115,
   "metadata": {},
   "outputs": [],
   "source": [
    "events_df = pd.read_csv('7_4_Events.csv')\n",
    "purchase_df = pd.read_csv('purchase.csv')"
   ]
  },
  {
   "cell_type": "markdown",
   "metadata": {},
   "source": [
    "Ссылки на исходные файлы:\n",
    "*   [7_4_Events.csv\n",
    "](https://drive.google.com/file/d/1aWd5HtWQg3HOwpOZAZb-NBrURAFnMHMM/view?usp=sharing)\n",
    "*   [purchase.csv\n",
    "](https://drive.google.com/file/d/1j6L6tdxvlYi9p5c2eq7ENNuDx0m0ptpe/view?usp=sharing)"
   ]
  },
  {
   "cell_type": "markdown",
   "metadata": {},
   "source": [
    "##### Проводим обработку данных:"
   ]
  },
  {
   "cell_type": "markdown",
   "metadata": {},
   "source": [
    "Делаем выборку по условию: пользователи зарегистрировались в 2018 году (с 1 января по 31 декабря 2018 года включительно). Фильтруем датафреймы с событиями и покупками по данному условию."
   ]
  },
  {
   "cell_type": "code",
   "execution_count": 116,
   "metadata": {},
   "outputs": [],
   "source": [
    "registered_in_2018 = events_df[(events_df.event_type == 'registration') & \n",
    "                               (events_df.start_time >= '2018-01-01') &\n",
    "                               (events_df.start_time < '2019-01-01')\n",
    "].user_id.to_list()\n",
    "events_2018 = events_df[events_df.user_id.isin(registered_in_2018)].copy()\n",
    "purchases_2018 = purchase_df[purchase_df.user_id.isin(registered_in_2018)].copy()"
   ]
  },
  {
   "cell_type": "markdown",
   "metadata": {},
   "source": [
    "Переводим столбцы со временем событий в формат datetime:"
   ]
  },
  {
   "cell_type": "code",
   "execution_count": 117,
   "metadata": {},
   "outputs": [],
   "source": [
    "events_2018.start_time = pd.to_datetime(events_2018.start_time)\n",
    "purchases_2018.event_datetime = pd.to_datetime(purchases_2018.event_datetime)"
   ]
  },
  {
   "cell_type": "markdown",
   "metadata": {},
   "source": [
    "Переименуем колонки с id события и добавим название операции покупки в столбец event_type, чтобы объеденить две таблицы в одну:"
   ]
  },
  {
   "cell_type": "code",
   "execution_count": 118,
   "metadata": {},
   "outputs": [],
   "source": [
    "events_2018 = events_2018.rename(columns={'id':'event_id'})\n",
    "purchases_2018 = purchases_2018.rename(\n",
    "    columns={'id':'event_id',\n",
    "             'event_datetime': 'start_time'}\n",
    ")\n",
    "purchases_2018['event_type'] = 'purchase'"
   ]
  },
  {
   "cell_type": "code",
   "execution_count": 119,
   "metadata": {},
   "outputs": [
    {
     "data": {
      "text/html": [
       "<div>\n",
       "<style scoped>\n",
       "    .dataframe tbody tr th:only-of-type {\n",
       "        vertical-align: middle;\n",
       "    }\n",
       "\n",
       "    .dataframe tbody tr th {\n",
       "        vertical-align: top;\n",
       "    }\n",
       "\n",
       "    .dataframe thead th {\n",
       "        text-align: right;\n",
       "    }\n",
       "</style>\n",
       "<table border=\"1\" class=\"dataframe\">\n",
       "  <thead>\n",
       "    <tr style=\"text-align: right;\">\n",
       "      <th></th>\n",
       "      <th>event_id</th>\n",
       "      <th>event_type</th>\n",
       "      <th>selected_level</th>\n",
       "      <th>start_time</th>\n",
       "      <th>tutorial_id</th>\n",
       "      <th>user_id</th>\n",
       "      <th>amount</th>\n",
       "    </tr>\n",
       "  </thead>\n",
       "  <tbody>\n",
       "    <tr>\n",
       "      <th>51405</th>\n",
       "      <td>80308</td>\n",
       "      <td>registration</td>\n",
       "      <td>NaN</td>\n",
       "      <td>2018-01-01 03:48:40</td>\n",
       "      <td>NaN</td>\n",
       "      <td>27832</td>\n",
       "      <td>NaN</td>\n",
       "    </tr>\n",
       "    <tr>\n",
       "      <th>51406</th>\n",
       "      <td>80309</td>\n",
       "      <td>registration</td>\n",
       "      <td>NaN</td>\n",
       "      <td>2018-01-01 04:07:25</td>\n",
       "      <td>NaN</td>\n",
       "      <td>27833</td>\n",
       "      <td>NaN</td>\n",
       "    </tr>\n",
       "    <tr>\n",
       "      <th>51407</th>\n",
       "      <td>80310</td>\n",
       "      <td>registration</td>\n",
       "      <td>NaN</td>\n",
       "      <td>2018-01-01 08:35:10</td>\n",
       "      <td>NaN</td>\n",
       "      <td>27834</td>\n",
       "      <td>NaN</td>\n",
       "    </tr>\n",
       "    <tr>\n",
       "      <th>51408</th>\n",
       "      <td>80311</td>\n",
       "      <td>registration</td>\n",
       "      <td>NaN</td>\n",
       "      <td>2018-01-01 11:54:47</td>\n",
       "      <td>NaN</td>\n",
       "      <td>27835</td>\n",
       "      <td>NaN</td>\n",
       "    </tr>\n",
       "    <tr>\n",
       "      <th>51409</th>\n",
       "      <td>80312</td>\n",
       "      <td>registration</td>\n",
       "      <td>NaN</td>\n",
       "      <td>2018-01-01 13:28:07</td>\n",
       "      <td>NaN</td>\n",
       "      <td>27836</td>\n",
       "      <td>NaN</td>\n",
       "    </tr>\n",
       "    <tr>\n",
       "      <th>51410</th>\n",
       "      <td>80313</td>\n",
       "      <td>registration</td>\n",
       "      <td>NaN</td>\n",
       "      <td>2018-01-01 14:08:40</td>\n",
       "      <td>NaN</td>\n",
       "      <td>27837</td>\n",
       "      <td>NaN</td>\n",
       "    </tr>\n",
       "    <tr>\n",
       "      <th>51411</th>\n",
       "      <td>80314</td>\n",
       "      <td>registration</td>\n",
       "      <td>NaN</td>\n",
       "      <td>2018-01-01 14:42:58</td>\n",
       "      <td>NaN</td>\n",
       "      <td>27838</td>\n",
       "      <td>NaN</td>\n",
       "    </tr>\n",
       "    <tr>\n",
       "      <th>51412</th>\n",
       "      <td>80315</td>\n",
       "      <td>tutorial_start</td>\n",
       "      <td>NaN</td>\n",
       "      <td>2018-01-01 14:54:40</td>\n",
       "      <td>31505.0</td>\n",
       "      <td>27836</td>\n",
       "      <td>NaN</td>\n",
       "    </tr>\n",
       "    <tr>\n",
       "      <th>51413</th>\n",
       "      <td>80316</td>\n",
       "      <td>tutorial_start</td>\n",
       "      <td>NaN</td>\n",
       "      <td>2018-01-01 15:00:51</td>\n",
       "      <td>31506.0</td>\n",
       "      <td>27835</td>\n",
       "      <td>NaN</td>\n",
       "    </tr>\n",
       "    <tr>\n",
       "      <th>51414</th>\n",
       "      <td>80317</td>\n",
       "      <td>tutorial_finish</td>\n",
       "      <td>NaN</td>\n",
       "      <td>2018-01-01 15:06:15</td>\n",
       "      <td>31506.0</td>\n",
       "      <td>27835</td>\n",
       "      <td>NaN</td>\n",
       "    </tr>\n",
       "  </tbody>\n",
       "</table>\n",
       "</div>"
      ],
      "text/plain": [
       "       event_id       event_type selected_level          start_time  \\\n",
       "51405     80308     registration            NaN 2018-01-01 03:48:40   \n",
       "51406     80309     registration            NaN 2018-01-01 04:07:25   \n",
       "51407     80310     registration            NaN 2018-01-01 08:35:10   \n",
       "51408     80311     registration            NaN 2018-01-01 11:54:47   \n",
       "51409     80312     registration            NaN 2018-01-01 13:28:07   \n",
       "51410     80313     registration            NaN 2018-01-01 14:08:40   \n",
       "51411     80314     registration            NaN 2018-01-01 14:42:58   \n",
       "51412     80315   tutorial_start            NaN 2018-01-01 14:54:40   \n",
       "51413     80316   tutorial_start            NaN 2018-01-01 15:00:51   \n",
       "51414     80317  tutorial_finish            NaN 2018-01-01 15:06:15   \n",
       "\n",
       "       tutorial_id  user_id  amount  \n",
       "51405          NaN    27832     NaN  \n",
       "51406          NaN    27833     NaN  \n",
       "51407          NaN    27834     NaN  \n",
       "51408          NaN    27835     NaN  \n",
       "51409          NaN    27836     NaN  \n",
       "51410          NaN    27837     NaN  \n",
       "51411          NaN    27838     NaN  \n",
       "51412      31505.0    27836     NaN  \n",
       "51413      31506.0    27835     NaN  \n",
       "51414      31506.0    27835     NaN  "
      ]
     },
     "execution_count": 119,
     "metadata": {},
     "output_type": "execute_result"
    }
   ],
   "source": [
    "total_events_2018 = pd.concat([events_2018, purchases_2018], sort=False)\n",
    "total_events_2018.reset_index(drop=True).sort_values('start_time')\n",
    "total_events_2018.head(10)"
   ]
  },
  {
   "cell_type": "markdown",
   "metadata": {},
   "source": [
    "Разбиваем пользователей на группы по признаку прохождения различных этапов."
   ]
  },
  {
   "cell_type": "code",
   "execution_count": 120,
   "metadata": {},
   "outputs": [],
   "source": [
    "all_users = total_events_2018.user_id.unique()\n",
    "users_with_started_tutorial = total_events_2018[total_events_2018.event_type == 'tutorial_start'].user_id.to_list()\n",
    "users_with_finished_tutorial = total_events_2018[total_events_2018.event_type == 'tutorial_finish'].user_id.to_list()\n",
    "users_not_started_tutorial = total_events_2018[~total_events_2018.user_id.isin(users_with_started_tutorial)].user_id.to_list()\n"
   ]
  },
  {
   "cell_type": "markdown",
   "metadata": {},
   "source": [
    "Считаем количество уникальных пользователей на каждом этапе при помощи сводной таблицы и строим воронку конверсии."
   ]
  },
  {
   "cell_type": "code",
   "execution_count": 121,
   "metadata": {},
   "outputs": [],
   "source": [
    "users_by_stages = total_events_2018.pivot_table(\n",
    "    index='event_type',\n",
    "    values='user_id',\n",
    "    aggfunc='nunique'\n",
    ").reset_index(drop=False).rename(columns={'user_id': 'user_count', 'event_type': 'stage'}).sort_values(by='user_count', ascending=False)"
   ]
  },
  {
   "cell_type": "code",
   "execution_count": 122,
   "metadata": {},
   "outputs": [
    {
     "ename": "ValueError",
     "evalue": "\nImage export using the \"kaleido\" engine requires the kaleido package,\nwhich can be installed using pip:\n    $ pip install -U kaleido\n",
     "output_type": "error",
     "traceback": [
      "\u001b[1;31m---------------------------------------------------------------------------\u001b[0m",
      "\u001b[1;31mValueError\u001b[0m                                Traceback (most recent call last)",
      "\u001b[1;32mf:\\GitHub\\Data-Analytics\\Анализ_воронки_пользователей\\Анализ воронки.ipynb Ячейка 19\u001b[0m in \u001b[0;36m<cell line: 3>\u001b[1;34m()\u001b[0m\n\u001b[0;32m      <a href='vscode-notebook-cell:/f%3A/GitHub/Data-Analytics/%D0%90%D0%BD%D0%B0%D0%BB%D0%B8%D0%B7_%D0%B2%D0%BE%D1%80%D0%BE%D0%BD%D0%BA%D0%B8_%D0%BF%D0%BE%D0%BB%D1%8C%D0%B7%D0%BE%D0%B2%D0%B0%D1%82%D0%B5%D0%BB%D0%B5%D0%B9/%D0%90%D0%BD%D0%B0%D0%BB%D0%B8%D0%B7%20%D0%B2%D0%BE%D1%80%D0%BE%D0%BD%D0%BA%D0%B8.ipynb#X24sZmlsZQ%3D%3D?line=0'>1</a>\u001b[0m \u001b[39m# Визуализируем в виде воронки.\u001b[39;00m\n\u001b[0;32m      <a href='vscode-notebook-cell:/f%3A/GitHub/Data-Analytics/%D0%90%D0%BD%D0%B0%D0%BB%D0%B8%D0%B7_%D0%B2%D0%BE%D1%80%D0%BE%D0%BD%D0%BA%D0%B8_%D0%BF%D0%BE%D0%BB%D1%8C%D0%B7%D0%BE%D0%B2%D0%B0%D1%82%D0%B5%D0%BB%D0%B5%D0%B9/%D0%90%D0%BD%D0%B0%D0%BB%D0%B8%D0%B7%20%D0%B2%D0%BE%D1%80%D0%BE%D0%BD%D0%BA%D0%B8.ipynb#X24sZmlsZQ%3D%3D?line=1'>2</a>\u001b[0m fig \u001b[39m=\u001b[39m px\u001b[39m.\u001b[39mfunnel(users_by_stages, x\u001b[39m=\u001b[39m\u001b[39m'\u001b[39m\u001b[39muser_count\u001b[39m\u001b[39m'\u001b[39m, y\u001b[39m=\u001b[39m\u001b[39m'\u001b[39m\u001b[39mstage\u001b[39m\u001b[39m'\u001b[39m, width\u001b[39m=\u001b[39m\u001b[39m800\u001b[39m, height\u001b[39m=\u001b[39m\u001b[39m500\u001b[39m, title\u001b[39m=\u001b[39m\u001b[39m'\u001b[39m\u001b[39mВоронка конверсии пользователей\u001b[39m\u001b[39m'\u001b[39m)\n\u001b[1;32m----> <a href='vscode-notebook-cell:/f%3A/GitHub/Data-Analytics/%D0%90%D0%BD%D0%B0%D0%BB%D0%B8%D0%B7_%D0%B2%D0%BE%D1%80%D0%BE%D0%BD%D0%BA%D0%B8_%D0%BF%D0%BE%D0%BB%D1%8C%D0%B7%D0%BE%D0%B2%D0%B0%D1%82%D0%B5%D0%BB%D0%B5%D0%B9/%D0%90%D0%BD%D0%B0%D0%BB%D0%B8%D0%B7%20%D0%B2%D0%BE%D1%80%D0%BE%D0%BD%D0%BA%D0%B8.ipynb#X24sZmlsZQ%3D%3D?line=2'>3</a>\u001b[0m fig\u001b[39m.\u001b[39;49mshow(\u001b[39m\"\u001b[39;49m\u001b[39mpng\u001b[39;49m\u001b[39m\"\u001b[39;49m)\n",
      "File \u001b[1;32mc:\\Users\\Maria Loseva\\AppData\\Local\\Programs\\Python\\Python310\\lib\\site-packages\\plotly\\basedatatypes.py:3398\u001b[0m, in \u001b[0;36mBaseFigure.show\u001b[1;34m(self, *args, **kwargs)\u001b[0m\n\u001b[0;32m   3365\u001b[0m \u001b[39m\"\"\"\u001b[39;00m\n\u001b[0;32m   3366\u001b[0m \u001b[39mShow a figure using either the default renderer(s) or the renderer(s)\u001b[39;00m\n\u001b[0;32m   3367\u001b[0m \u001b[39mspecified by the renderer argument\u001b[39;00m\n\u001b[1;32m   (...)\u001b[0m\n\u001b[0;32m   3394\u001b[0m \u001b[39mNone\u001b[39;00m\n\u001b[0;32m   3395\u001b[0m \u001b[39m\"\"\"\u001b[39;00m\n\u001b[0;32m   3396\u001b[0m \u001b[39mimport\u001b[39;00m \u001b[39mplotly\u001b[39;00m\u001b[39m.\u001b[39;00m\u001b[39mio\u001b[39;00m \u001b[39mas\u001b[39;00m \u001b[39mpio\u001b[39;00m\n\u001b[1;32m-> 3398\u001b[0m \u001b[39mreturn\u001b[39;00m pio\u001b[39m.\u001b[39mshow(\u001b[39mself\u001b[39m, \u001b[39m*\u001b[39margs, \u001b[39m*\u001b[39m\u001b[39m*\u001b[39mkwargs)\n",
      "File \u001b[1;32mc:\\Users\\Maria Loseva\\AppData\\Local\\Programs\\Python\\Python310\\lib\\site-packages\\plotly\\io\\_renderers.py:388\u001b[0m, in \u001b[0;36mshow\u001b[1;34m(fig, renderer, validate, **kwargs)\u001b[0m\n\u001b[0;32m    385\u001b[0m fig_dict \u001b[39m=\u001b[39m validate_coerce_fig_to_dict(fig, validate)\n\u001b[0;32m    387\u001b[0m \u001b[39m# Mimetype renderers\u001b[39;00m\n\u001b[1;32m--> 388\u001b[0m bundle \u001b[39m=\u001b[39m renderers\u001b[39m.\u001b[39m_build_mime_bundle(fig_dict, renderers_string\u001b[39m=\u001b[39mrenderer, \u001b[39m*\u001b[39m\u001b[39m*\u001b[39mkwargs)\n\u001b[0;32m    389\u001b[0m \u001b[39mif\u001b[39;00m bundle:\n\u001b[0;32m    390\u001b[0m     \u001b[39mif\u001b[39;00m \u001b[39mnot\u001b[39;00m ipython_display:\n",
      "File \u001b[1;32mc:\\Users\\Maria Loseva\\AppData\\Local\\Programs\\Python\\Python310\\lib\\site-packages\\plotly\\io\\_renderers.py:296\u001b[0m, in \u001b[0;36mRenderersConfig._build_mime_bundle\u001b[1;34m(self, fig_dict, renderers_string, **kwargs)\u001b[0m\n\u001b[0;32m    293\u001b[0m             \u001b[39mif\u001b[39;00m \u001b[39mhasattr\u001b[39m(renderer, k):\n\u001b[0;32m    294\u001b[0m                 \u001b[39msetattr\u001b[39m(renderer, k, v)\n\u001b[1;32m--> 296\u001b[0m         bundle\u001b[39m.\u001b[39mupdate(renderer\u001b[39m.\u001b[39;49mto_mimebundle(fig_dict))\n\u001b[0;32m    298\u001b[0m \u001b[39mreturn\u001b[39;00m bundle\n",
      "File \u001b[1;32mc:\\Users\\Maria Loseva\\AppData\\Local\\Programs\\Python\\Python310\\lib\\site-packages\\plotly\\io\\_base_renderers.py:127\u001b[0m, in \u001b[0;36mImageRenderer.to_mimebundle\u001b[1;34m(self, fig_dict)\u001b[0m\n\u001b[0;32m    126\u001b[0m \u001b[39mdef\u001b[39;00m \u001b[39mto_mimebundle\u001b[39m(\u001b[39mself\u001b[39m, fig_dict):\n\u001b[1;32m--> 127\u001b[0m     image_bytes \u001b[39m=\u001b[39m to_image(\n\u001b[0;32m    128\u001b[0m         fig_dict,\n\u001b[0;32m    129\u001b[0m         \u001b[39mformat\u001b[39;49m\u001b[39m=\u001b[39;49m\u001b[39mself\u001b[39;49m\u001b[39m.\u001b[39;49mformat,\n\u001b[0;32m    130\u001b[0m         width\u001b[39m=\u001b[39;49m\u001b[39mself\u001b[39;49m\u001b[39m.\u001b[39;49mwidth,\n\u001b[0;32m    131\u001b[0m         height\u001b[39m=\u001b[39;49m\u001b[39mself\u001b[39;49m\u001b[39m.\u001b[39;49mheight,\n\u001b[0;32m    132\u001b[0m         scale\u001b[39m=\u001b[39;49m\u001b[39mself\u001b[39;49m\u001b[39m.\u001b[39;49mscale,\n\u001b[0;32m    133\u001b[0m         validate\u001b[39m=\u001b[39;49m\u001b[39mFalse\u001b[39;49;00m,\n\u001b[0;32m    134\u001b[0m         engine\u001b[39m=\u001b[39;49m\u001b[39mself\u001b[39;49m\u001b[39m.\u001b[39;49mengine,\n\u001b[0;32m    135\u001b[0m     )\n\u001b[0;32m    137\u001b[0m     \u001b[39mif\u001b[39;00m \u001b[39mself\u001b[39m\u001b[39m.\u001b[39mb64_encode:\n\u001b[0;32m    138\u001b[0m         image_str \u001b[39m=\u001b[39m base64\u001b[39m.\u001b[39mb64encode(image_bytes)\u001b[39m.\u001b[39mdecode(\u001b[39m\"\u001b[39m\u001b[39mutf8\u001b[39m\u001b[39m\"\u001b[39m)\n",
      "File \u001b[1;32mc:\\Users\\Maria Loseva\\AppData\\Local\\Programs\\Python\\Python310\\lib\\site-packages\\plotly\\io\\_kaleido.py:133\u001b[0m, in \u001b[0;36mto_image\u001b[1;34m(fig, format, width, height, scale, validate, engine)\u001b[0m\n\u001b[0;32m    131\u001b[0m     \u001b[39m# Raise informative error message if Kaleido is not installed\u001b[39;00m\n\u001b[0;32m    132\u001b[0m     \u001b[39mif\u001b[39;00m scope \u001b[39mis\u001b[39;00m \u001b[39mNone\u001b[39;00m:\n\u001b[1;32m--> 133\u001b[0m         \u001b[39mraise\u001b[39;00m \u001b[39mValueError\u001b[39;00m(\n\u001b[0;32m    134\u001b[0m             \u001b[39m\"\"\"\u001b[39;00m\n\u001b[0;32m    135\u001b[0m \u001b[39mImage export using the \"kaleido\" engine requires the kaleido package,\u001b[39;00m\n\u001b[0;32m    136\u001b[0m \u001b[39mwhich can be installed using pip:\u001b[39;00m\n\u001b[0;32m    137\u001b[0m \u001b[39m    $ pip install -U kaleido\u001b[39;00m\n\u001b[0;32m    138\u001b[0m \u001b[39m\"\"\"\u001b[39;00m\n\u001b[0;32m    139\u001b[0m         )\n\u001b[0;32m    141\u001b[0m     \u001b[39m# Validate figure\u001b[39;00m\n\u001b[0;32m    142\u001b[0m     \u001b[39m# ---------------\u001b[39;00m\n\u001b[0;32m    143\u001b[0m     fig_dict \u001b[39m=\u001b[39m validate_coerce_fig_to_dict(fig, validate)\n",
      "\u001b[1;31mValueError\u001b[0m: \nImage export using the \"kaleido\" engine requires the kaleido package,\nwhich can be installed using pip:\n    $ pip install -U kaleido\n"
     ]
    }
   ],
   "source": [
    "# Визуализируем в виде воронки.\n",
    "fig = px.funnel(users_by_stages, x='user_count', y='stage', width=800, height=500, title='Воронка конверсии пользователей')\n",
    "fig.show(\"png\")"
   ]
  },
  {
   "cell_type": "markdown",
   "metadata": {},
   "source": [
    "Не все начавшие обучение пользователи прошли его до конца. \n",
    "\n",
    "Проверяем, есть ли повторы событий."
   ]
  },
  {
   "cell_type": "code",
   "execution_count": null,
   "metadata": {},
   "outputs": [
    {
     "name": "stdout",
     "output_type": "stream",
     "text": [
      "1.522179119581717\n",
      "1.4540487804878048\n",
      "1.0\n",
      "1.0\n"
     ]
    }
   ],
   "source": [
    "print(total_events_2018[total_events_2018.event_type == 'tutorial_start'].user_id.value_counts().mean())\n",
    "print(total_events_2018[total_events_2018.event_type == 'tutorial_finish'].user_id.value_counts().mean())\n",
    "print(total_events_2018[total_events_2018.event_type == 'level_choice'].user_id.value_counts().mean())\n",
    "print(total_events_2018[total_events_2018.event_type == 'pack_choice'].user_id.value_counts().mean())"
   ]
  },
  {
   "cell_type": "markdown",
   "metadata": {},
   "source": [
    "Как мы видим, некоторые пользователи несколько раз проходили обучение. В дальнейшем рассмотрим это подробнее."
   ]
  },
  {
   "cell_type": "markdown",
   "metadata": {},
   "source": [
    "Создадим дополнительный столбец с указанием группы пользователей."
   ]
  },
  {
   "cell_type": "code",
   "execution_count": null,
   "metadata": {},
   "outputs": [],
   "source": [
    "def group_identification(user):\n",
    "    if user in users_with_finished_tutorial:\n",
    "        return 'finished_tutorial'\n",
    "    elif user in users_not_started_tutorial:\n",
    "        return 'not_started_tutorial'\n",
    "    else:\n",
    "        return 'not_finished_tutorial'\n",
    "\n",
    "total_events_2018['user_group'] = total_events_2018.user_id.apply(group_identification)"
   ]
  },
  {
   "cell_type": "markdown",
   "metadata": {},
   "source": [
    "#### Гипотеза №1:"
   ]
  },
  {
   "cell_type": "markdown",
   "metadata": {},
   "source": [
    "\n",
    "Создаем сводную таблицу для каждого пользователя и времени всех действий, совершенных пользователем, выбирая самое первое действие в рамках каждого этапа, чтобы убрать повторы. Преобразуем сводную таблицу в обычный датафрейм и изменим порядок столбцов в соответсвии с ожидаемым путем пользователя (registration > tutorial_start > tutorial_finish > level_choice > pack_choice > purchase)."
   ]
  },
  {
   "cell_type": "code",
   "execution_count": null,
   "metadata": {},
   "outputs": [
    {
     "data": {
      "text/html": [
       "<div>\n",
       "<style scoped>\n",
       "    .dataframe tbody tr th:only-of-type {\n",
       "        vertical-align: middle;\n",
       "    }\n",
       "\n",
       "    .dataframe tbody tr th {\n",
       "        vertical-align: top;\n",
       "    }\n",
       "\n",
       "    .dataframe thead th {\n",
       "        text-align: right;\n",
       "    }\n",
       "</style>\n",
       "<table border=\"1\" class=\"dataframe\">\n",
       "  <thead>\n",
       "    <tr style=\"text-align: right;\">\n",
       "      <th></th>\n",
       "      <th>user_id</th>\n",
       "      <th>user_group</th>\n",
       "      <th>registration</th>\n",
       "      <th>tutorial_start</th>\n",
       "      <th>tutorial_finish</th>\n",
       "      <th>level_choice</th>\n",
       "      <th>pack_choice</th>\n",
       "      <th>purchase</th>\n",
       "    </tr>\n",
       "  </thead>\n",
       "  <tbody>\n",
       "    <tr>\n",
       "      <th>0</th>\n",
       "      <td>27833</td>\n",
       "      <td>finished_tutorial</td>\n",
       "      <td>2018-01-01 04:07:25</td>\n",
       "      <td>2018-01-01 17:47:40</td>\n",
       "      <td>2018-01-01 17:50:08</td>\n",
       "      <td>NaT</td>\n",
       "      <td>NaT</td>\n",
       "      <td>NaT</td>\n",
       "    </tr>\n",
       "    <tr>\n",
       "      <th>1</th>\n",
       "      <td>27834</td>\n",
       "      <td>finished_tutorial</td>\n",
       "      <td>2018-01-01 08:35:10</td>\n",
       "      <td>2018-01-01 19:46:11</td>\n",
       "      <td>2018-01-01 19:48:01</td>\n",
       "      <td>NaT</td>\n",
       "      <td>NaT</td>\n",
       "      <td>NaT</td>\n",
       "    </tr>\n",
       "    <tr>\n",
       "      <th>2</th>\n",
       "      <td>27835</td>\n",
       "      <td>finished_tutorial</td>\n",
       "      <td>2018-01-01 11:54:47</td>\n",
       "      <td>2018-01-01 15:00:51</td>\n",
       "      <td>2018-01-01 15:06:15</td>\n",
       "      <td>2018-01-01 20:37:22</td>\n",
       "      <td>2018-01-01 20:38:43</td>\n",
       "      <td>NaT</td>\n",
       "    </tr>\n",
       "    <tr>\n",
       "      <th>3</th>\n",
       "      <td>27836</td>\n",
       "      <td>finished_tutorial</td>\n",
       "      <td>2018-01-01 13:28:07</td>\n",
       "      <td>2018-01-01 14:54:40</td>\n",
       "      <td>2018-01-01 15:42:58</td>\n",
       "      <td>NaT</td>\n",
       "      <td>NaT</td>\n",
       "      <td>NaT</td>\n",
       "    </tr>\n",
       "    <tr>\n",
       "      <th>4</th>\n",
       "      <td>27839</td>\n",
       "      <td>finished_tutorial</td>\n",
       "      <td>2018-01-01 18:24:01</td>\n",
       "      <td>2018-01-01 19:11:36</td>\n",
       "      <td>2018-01-01 19:16:32</td>\n",
       "      <td>2018-01-01 22:37:50</td>\n",
       "      <td>2018-01-01 22:42:54</td>\n",
       "      <td>NaT</td>\n",
       "    </tr>\n",
       "    <tr>\n",
       "      <th>5</th>\n",
       "      <td>27841</td>\n",
       "      <td>finished_tutorial</td>\n",
       "      <td>2018-01-01 22:25:14</td>\n",
       "      <td>2018-01-02 07:40:19</td>\n",
       "      <td>2018-01-02 07:46:18</td>\n",
       "      <td>NaT</td>\n",
       "      <td>NaT</td>\n",
       "      <td>NaT</td>\n",
       "    </tr>\n",
       "    <tr>\n",
       "      <th>6</th>\n",
       "      <td>27842</td>\n",
       "      <td>finished_tutorial</td>\n",
       "      <td>2018-01-01 23:18:46</td>\n",
       "      <td>2018-01-02 04:55:11</td>\n",
       "      <td>2018-01-02 04:57:01</td>\n",
       "      <td>2018-01-02 08:46:03</td>\n",
       "      <td>NaT</td>\n",
       "      <td>NaT</td>\n",
       "    </tr>\n",
       "    <tr>\n",
       "      <th>7</th>\n",
       "      <td>27843</td>\n",
       "      <td>finished_tutorial</td>\n",
       "      <td>2018-01-02 00:02:28</td>\n",
       "      <td>2018-01-02 13:34:51</td>\n",
       "      <td>2018-01-02 13:38:23</td>\n",
       "      <td>2018-01-02 14:09:58</td>\n",
       "      <td>2018-01-02 14:14:51</td>\n",
       "      <td>NaT</td>\n",
       "    </tr>\n",
       "    <tr>\n",
       "      <th>8</th>\n",
       "      <td>27845</td>\n",
       "      <td>finished_tutorial</td>\n",
       "      <td>2018-01-02 01:35:56</td>\n",
       "      <td>2018-01-02 03:03:44</td>\n",
       "      <td>2018-01-02 03:06:48</td>\n",
       "      <td>2018-01-02 06:19:18</td>\n",
       "      <td>2018-01-02 06:25:12</td>\n",
       "      <td>2018-01-03 18:53:43</td>\n",
       "    </tr>\n",
       "    <tr>\n",
       "      <th>9</th>\n",
       "      <td>27846</td>\n",
       "      <td>finished_tutorial</td>\n",
       "      <td>2018-01-02 05:07:52</td>\n",
       "      <td>2018-01-02 09:22:22</td>\n",
       "      <td>2018-01-02 09:29:36</td>\n",
       "      <td>2018-01-02 15:10:27</td>\n",
       "      <td>2018-01-02 15:14:18</td>\n",
       "      <td>NaT</td>\n",
       "    </tr>\n",
       "  </tbody>\n",
       "</table>\n",
       "</div>"
      ],
      "text/plain": [
       "   user_id         user_group        registration      tutorial_start  \\\n",
       "0    27833  finished_tutorial 2018-01-01 04:07:25 2018-01-01 17:47:40   \n",
       "1    27834  finished_tutorial 2018-01-01 08:35:10 2018-01-01 19:46:11   \n",
       "2    27835  finished_tutorial 2018-01-01 11:54:47 2018-01-01 15:00:51   \n",
       "3    27836  finished_tutorial 2018-01-01 13:28:07 2018-01-01 14:54:40   \n",
       "4    27839  finished_tutorial 2018-01-01 18:24:01 2018-01-01 19:11:36   \n",
       "5    27841  finished_tutorial 2018-01-01 22:25:14 2018-01-02 07:40:19   \n",
       "6    27842  finished_tutorial 2018-01-01 23:18:46 2018-01-02 04:55:11   \n",
       "7    27843  finished_tutorial 2018-01-02 00:02:28 2018-01-02 13:34:51   \n",
       "8    27845  finished_tutorial 2018-01-02 01:35:56 2018-01-02 03:03:44   \n",
       "9    27846  finished_tutorial 2018-01-02 05:07:52 2018-01-02 09:22:22   \n",
       "\n",
       "      tutorial_finish        level_choice         pack_choice  \\\n",
       "0 2018-01-01 17:50:08                 NaT                 NaT   \n",
       "1 2018-01-01 19:48:01                 NaT                 NaT   \n",
       "2 2018-01-01 15:06:15 2018-01-01 20:37:22 2018-01-01 20:38:43   \n",
       "3 2018-01-01 15:42:58                 NaT                 NaT   \n",
       "4 2018-01-01 19:16:32 2018-01-01 22:37:50 2018-01-01 22:42:54   \n",
       "5 2018-01-02 07:46:18                 NaT                 NaT   \n",
       "6 2018-01-02 04:57:01 2018-01-02 08:46:03                 NaT   \n",
       "7 2018-01-02 13:38:23 2018-01-02 14:09:58 2018-01-02 14:14:51   \n",
       "8 2018-01-02 03:06:48 2018-01-02 06:19:18 2018-01-02 06:25:12   \n",
       "9 2018-01-02 09:29:36 2018-01-02 15:10:27 2018-01-02 15:14:18   \n",
       "\n",
       "             purchase  \n",
       "0                 NaT  \n",
       "1                 NaT  \n",
       "2                 NaT  \n",
       "3                 NaT  \n",
       "4                 NaT  \n",
       "5                 NaT  \n",
       "6                 NaT  \n",
       "7                 NaT  \n",
       "8 2018-01-03 18:53:43  \n",
       "9                 NaT  "
      ]
     },
     "execution_count": 107,
     "metadata": {},
     "output_type": "execute_result"
    }
   ],
   "source": [
    "user_event_times_pivot = total_events_2018.pivot_table(\n",
    "    index=['user_group','user_id'],\n",
    "    columns='event_type',\n",
    "    values='start_time',\n",
    "    aggfunc='min'\n",
    ")\n",
    "user_event_times_df = user_event_times_pivot.reset_index().rename_axis(None, axis=1)\n",
    "user_event_times_df = user_event_times_df.reindex(columns=['user_id','user_group','registration','tutorial_start','tutorial_finish','level_choice','pack_choice','purchase'])\n",
    "user_event_times_df.head(10)"
   ]
  },
  {
   "cell_type": "markdown",
   "metadata": {},
   "source": [
    "Рассчитываем время прохождения этапов. Выбраны только те этапы, которые пристутствуют во всех исследуемых группах пользователей, а также весь путь от регистрации до оплаты."
   ]
  },
  {
   "cell_type": "code",
   "execution_count": null,
   "metadata": {},
   "outputs": [],
   "source": [
    "user_event_times_df['lvl_choice_to_pack_choice'] = (user_event_times_df.pack_choice - user_event_times_df.level_choice) / pd.Timedelta('1 minute')\n",
    "user_event_times_df['pack_choice_to_purchase'] = (user_event_times_df.purchase - user_event_times_df.pack_choice) / pd.Timedelta('1 hour')\n",
    "user_event_times_df['total_time'] = (user_event_times_df.purchase - user_event_times_df.registration) / pd.Timedelta('1 hour')"
   ]
  },
  {
   "cell_type": "markdown",
   "metadata": {},
   "source": [
    "Строим визуализацию:"
   ]
  },
  {
   "cell_type": "code",
   "execution_count": null,
   "metadata": {},
   "outputs": [
    {
     "data": {
      "text/html": [
       "<div>\n",
       "<style scoped>\n",
       "    .dataframe tbody tr th:only-of-type {\n",
       "        vertical-align: middle;\n",
       "    }\n",
       "\n",
       "    .dataframe tbody tr th {\n",
       "        vertical-align: top;\n",
       "    }\n",
       "\n",
       "    .dataframe thead th {\n",
       "        text-align: right;\n",
       "    }\n",
       "</style>\n",
       "<table border=\"1\" class=\"dataframe\">\n",
       "  <thead>\n",
       "    <tr style=\"text-align: right;\">\n",
       "      <th></th>\n",
       "      <th>user_group</th>\n",
       "      <th>lvl_choice_to_pack_choice</th>\n",
       "      <th>pack_choice_to_purchase</th>\n",
       "      <th>total_time</th>\n",
       "    </tr>\n",
       "  </thead>\n",
       "  <tbody>\n",
       "    <tr>\n",
       "      <th>0</th>\n",
       "      <td>finished_tutorial</td>\n",
       "      <td>5.302434</td>\n",
       "      <td>89.299900</td>\n",
       "      <td>96.500902</td>\n",
       "    </tr>\n",
       "    <tr>\n",
       "      <th>1</th>\n",
       "      <td>not_finished_tutorial</td>\n",
       "      <td>5.088261</td>\n",
       "      <td>93.246363</td>\n",
       "      <td>101.548115</td>\n",
       "    </tr>\n",
       "    <tr>\n",
       "      <th>2</th>\n",
       "      <td>not_started_tutorial</td>\n",
       "      <td>5.397072</td>\n",
       "      <td>100.825997</td>\n",
       "      <td>105.100530</td>\n",
       "    </tr>\n",
       "  </tbody>\n",
       "</table>\n",
       "</div>"
      ],
      "text/plain": [
       "              user_group  lvl_choice_to_pack_choice  pack_choice_to_purchase  \\\n",
       "0      finished_tutorial                   5.302434                89.299900   \n",
       "1  not_finished_tutorial                   5.088261                93.246363   \n",
       "2   not_started_tutorial                   5.397072               100.825997   \n",
       "\n",
       "   total_time  \n",
       "0   96.500902  \n",
       "1  101.548115  \n",
       "2  105.100530  "
      ]
     },
     "metadata": {},
     "output_type": "display_data"
    },
    {
     "name": "stdout",
     "output_type": "stream",
     "text": [
      "В среднем пользователи с завершенным обучением проходят этап между pack_choice и purchase на 11.43% быстрее не начинавших обучение пользователей.\n",
      "В среднем пользователи с завершенным обучением проходят весь путь от registration до purchase на 8.18% быстрее не начинавших обучение пользователей.\n"
     ]
    },
    {
     "data": {
      "image/png": "[encoded data removed]",
      "text/plain": [
       "<Figure size 1224x360 with 3 Axes>"
      ]
     },
     "metadata": {
      "needs_background": "light"
     },
     "output_type": "display_data"
    }
   ],
   "source": [
    "# Создаем сводную таблицу с подсчетом среднего и форматируем в обычный датафрейм.\n",
    "pivot = user_event_times_df[\n",
    "    ['user_group','lvl_choice_to_pack_choice', 'pack_choice_to_purchase', 'total_time']\n",
    "].pivot_table(\n",
    "    index='user_group',\n",
    "    aggfunc='mean'\n",
    ").reset_index(drop=False).rename_axis(None, axis=1)\n",
    "\n",
    "# Считаем насколько быстрее пользователи из группы finished_tutorial проходят этапы быстрее пользователей из группы not_started_tutorial.\n",
    "avg1 = abs((pivot.iloc[0][2] / pivot.iloc[2][2]) - 1)\n",
    "avg2 = abs((pivot.iloc[0][3] / pivot.iloc[2][3]) - 1)\n",
    "\n",
    "# Строим столбчатые диаграммы.\n",
    "fig, axes = plt.subplots(nrows=1, ncols=3, figsize=(17,5))\n",
    "\n",
    "axes[0].bar(\n",
    "    x=pivot.user_group,\n",
    "    height=pivot.lvl_choice_to_pack_choice\n",
    ")\n",
    "axes[0].set_title('Среднее время между level_choice и pack_choice')\n",
    "axes[0].set_ylabel('Количество минут')\n",
    "axes[0].xaxis.set_tick_params(rotation=25)\n",
    "\n",
    "axes[1].bar(\n",
    "    x=pivot.user_group,\n",
    "    height=pivot.pack_choice_to_purchase,\n",
    "    color='tomato'\n",
    ")\n",
    "axes[1].set_title('Среднее время между pack_choice и purchase')\n",
    "axes[1].set_ylabel('Количество часов')\n",
    "axes[1].xaxis.set_tick_params(rotation=25)\n",
    "\n",
    "axes[2].bar(\n",
    "    x=pivot.user_group,\n",
    "    height=pivot.total_time,\n",
    "    color='lime'\n",
    ")\n",
    "axes[2].set_title('Среднее время между registration и purchase')\n",
    "axes[2].set_ylabel('Количество часов')\n",
    "axes[2].xaxis.set_tick_params(rotation=25)\n",
    "\n",
    "axes[0].bar_label(axes[0].containers[0], label_type='edge')\n",
    "axes[1].bar_label(axes[1].containers[0], label_type='edge')\n",
    "axes[2].bar_label(axes[2].containers[0], label_type='edge')\n",
    "\n",
    "display(pivot)\n",
    "\n",
    "print(\n",
    "    'В среднем пользователи с завершенным обучением проходят этап между pack_choice и purchase на {:.2%} быстрее не начинавших обучение пользователей.'.format(avg1)\n",
    ")\n",
    "print(\n",
    "    'В среднем пользователи с завершенным обучением проходят весь путь от registration до purchase на {:.2%} быстрее не начинавших обучение пользователей.'.format(avg2)\n",
    ")"
   ]
  },
  {
   "cell_type": "markdown",
   "metadata": {},
   "source": [
    "##### Выводы:\n",
    "Как видно из графиков, прохождение обучения явно влияет на скорость прохождения других этапов игры.\n",
    "В отношении этапа между выбором уровня сложности и пакета с бесплатными вопросами четкие выводы сделать сложно, так как у всех трех групп пользователей в среднем уходило чуть более 5 минут на прохождение этого этапа.\n",
    "\n",
    "Но если посмотреть на следующий этап и на весь путь пользователя (от регистрации до покупки), то становится заметна закономерность - прохождение обучения положительно влияет на решение пользователя о совершении покупки. Что интересно, пользователи, не прошедшие обучение до конца, тоже быстрее проходят все этапы игры по сравнению с теми, кто обучение так и не начинал.\n",
    "\n",
    "В среднем пользователи с завершенным обучением проходят этап между pack_choice и purchase на 11.43% быстрее не начинавших обучение пользователей.\n",
    "\n",
    "В среднем пользователи с завершенным обучением проходят весь путь от registration до purchase на 8.18% быстрее не начинавших обучение пользователей."
   ]
  },
  {
   "cell_type": "markdown",
   "metadata": {},
   "source": [
    "#### Гипотеза №2:"
   ]
  },
  {
   "cell_type": "markdown",
   "metadata": {},
   "source": [
    "Для проверки гипотезы строим таблицу, в которой делим пользователй на группы в зависимости от количества начатых обучений, также считаем какое количество пользователей из каждой группы совершили оплату."
   ]
  },
  {
   "cell_type": "code",
   "execution_count": null,
   "metadata": {},
   "outputs": [],
   "source": [
    "# Создаем список пользователей, совершивших оплату.\n",
    "users_with_purchase = total_events_2018[total_events_2018.event_type == 'purchase'].user_id.to_list()\n",
    "\n",
    "# Создаем таблицу с подсчетом количества начатых обучений для каждого пользователя и проверяем наличие оплаты.\n",
    "tutorial_count = total_events_2018.groupby('user_id').tutorial_id.nunique().to_frame().reset_index()\n",
    "tutorial_count['purchase'] = tutorial_count.user_id.apply(lambda x: 1 if x in set(users_with_purchase) else 0)\n",
    "tutorial_count = tutorial_count.rename(columns={'tutorial_id':'tutorial_count'})\n",
    "\n",
    "# На основании таблицы создаем сводную с группировкой по количеству пройденных обучений. \n",
    "# Форматируем сводную таблицу в обычный датафрейм. \n",
    "tutorial_count_pivot = tutorial_count.pivot_table(\n",
    "    index='tutorial_count',\n",
    "    aggfunc={'user_id':'count', 'purchase':'sum'}\n",
    ").reset_index()\n",
    "\n",
    "# Считаем конверсию пользователей в клиенты. Переименовываем столбцы для наглядности.\n",
    "tutorial_count_pivot['conversion'] = round((tutorial_count_pivot.purchase / tutorial_count_pivot.user_id) * 100, 2)\n",
    "tutorial_count_pivot = tutorial_count_pivot.rename(columns={'user_id':'users',\n",
    "                                                            'purchase': 'purchases'})\n",
    "tutorial_count_pivot['percent_users'] = (tutorial_count_pivot.users / len(all_users)) * 100\n",
    "\n",
    "users_with_many_tutorials = tutorial_count_pivot.query('tutorial_count > 1').percent_users.sum()"
   ]
  },
  {
   "cell_type": "markdown",
   "metadata": {},
   "source": [
    "Строим визуализацию:"
   ]
  },
  {
   "cell_type": "code",
   "execution_count": null,
   "metadata": {},
   "outputs": [
    {
     "data": {
      "text/html": [
       "<div>\n",
       "<style scoped>\n",
       "    .dataframe tbody tr th:only-of-type {\n",
       "        vertical-align: middle;\n",
       "    }\n",
       "\n",
       "    .dataframe tbody tr th {\n",
       "        vertical-align: top;\n",
       "    }\n",
       "\n",
       "    .dataframe thead th {\n",
       "        text-align: right;\n",
       "    }\n",
       "</style>\n",
       "<table border=\"1\" class=\"dataframe\">\n",
       "  <thead>\n",
       "    <tr style=\"text-align: right;\">\n",
       "      <th></th>\n",
       "      <th>tutorial_count</th>\n",
       "      <th>purchases</th>\n",
       "      <th>users</th>\n",
       "      <th>conversion</th>\n",
       "      <th>percent_users</th>\n",
       "    </tr>\n",
       "  </thead>\n",
       "  <tbody>\n",
       "    <tr>\n",
       "      <th>0</th>\n",
       "      <td>0</td>\n",
       "      <td>22</td>\n",
       "      <td>8068</td>\n",
       "      <td>0.27</td>\n",
       "      <td>40.489812</td>\n",
       "    </tr>\n",
       "    <tr>\n",
       "      <th>1</th>\n",
       "      <td>1</td>\n",
       "      <td>1207</td>\n",
       "      <td>9103</td>\n",
       "      <td>13.26</td>\n",
       "      <td>45.684031</td>\n",
       "    </tr>\n",
       "    <tr>\n",
       "      <th>2</th>\n",
       "      <td>2</td>\n",
       "      <td>218</td>\n",
       "      <td>1589</td>\n",
       "      <td>13.72</td>\n",
       "      <td>7.974506</td>\n",
       "    </tr>\n",
       "    <tr>\n",
       "      <th>3</th>\n",
       "      <td>3</td>\n",
       "      <td>51</td>\n",
       "      <td>427</td>\n",
       "      <td>11.94</td>\n",
       "      <td>2.142929</td>\n",
       "    </tr>\n",
       "    <tr>\n",
       "      <th>4</th>\n",
       "      <td>4</td>\n",
       "      <td>30</td>\n",
       "      <td>221</td>\n",
       "      <td>13.57</td>\n",
       "      <td>1.109104</td>\n",
       "    </tr>\n",
       "    <tr>\n",
       "      <th>5</th>\n",
       "      <td>5</td>\n",
       "      <td>16</td>\n",
       "      <td>109</td>\n",
       "      <td>14.68</td>\n",
       "      <td>0.547024</td>\n",
       "    </tr>\n",
       "    <tr>\n",
       "      <th>6</th>\n",
       "      <td>6</td>\n",
       "      <td>14</td>\n",
       "      <td>116</td>\n",
       "      <td>12.07</td>\n",
       "      <td>0.582154</td>\n",
       "    </tr>\n",
       "    <tr>\n",
       "      <th>7</th>\n",
       "      <td>7</td>\n",
       "      <td>12</td>\n",
       "      <td>94</td>\n",
       "      <td>12.77</td>\n",
       "      <td>0.471745</td>\n",
       "    </tr>\n",
       "    <tr>\n",
       "      <th>8</th>\n",
       "      <td>8</td>\n",
       "      <td>13</td>\n",
       "      <td>86</td>\n",
       "      <td>15.12</td>\n",
       "      <td>0.431597</td>\n",
       "    </tr>\n",
       "    <tr>\n",
       "      <th>9</th>\n",
       "      <td>9</td>\n",
       "      <td>17</td>\n",
       "      <td>113</td>\n",
       "      <td>15.04</td>\n",
       "      <td>0.567098</td>\n",
       "    </tr>\n",
       "  </tbody>\n",
       "</table>\n",
       "</div>"
      ],
      "text/plain": [
       "   tutorial_count  purchases  users  conversion  percent_users\n",
       "0               0         22   8068        0.27      40.489812\n",
       "1               1       1207   9103       13.26      45.684031\n",
       "2               2        218   1589       13.72       7.974506\n",
       "3               3         51    427       11.94       2.142929\n",
       "4               4         30    221       13.57       1.109104\n",
       "5               5         16    109       14.68       0.547024\n",
       "6               6         14    116       12.07       0.582154\n",
       "7               7         12     94       12.77       0.471745\n",
       "8               8         13     86       15.12       0.431597\n",
       "9               9         17    113       15.04       0.567098"
      ]
     },
     "metadata": {},
     "output_type": "display_data"
    },
    {
     "name": "stdout",
     "output_type": "stream",
     "text": [
      "Процент пользователей, проходивших обучение более 1-го раза: 13.83%\n"
     ]
    },
    {
     "data": {
      "image/png": "[encoded data removed]",
      "text/plain": [
       "<Figure size 648x288 with 1 Axes>"
      ]
     },
     "metadata": {
      "needs_background": "light"
     },
     "output_type": "display_data"
    }
   ],
   "source": [
    "fig = plt.figure(figsize=(9, 4))\n",
    "main_axes = fig.add_axes([0, 0, 1, 1])\n",
    "main_axes.bar(\n",
    "    x = tutorial_count_pivot.tutorial_count,\n",
    "    height = tutorial_count_pivot.conversion,\n",
    "    width=0.7\n",
    ")\n",
    "\n",
    "main_axes.set_xticks(tutorial_count_pivot.tutorial_count)\n",
    "main_axes.set_xlabel('Количество обучений')\n",
    "main_axes.set_ylabel('Конверсия, %')\n",
    "main_axes.set_title('Конверсия пользователей в клиенты в зависимости от количества начатых обучений')\n",
    "main_axes.bar_label(main_axes.containers[0])\n",
    "\n",
    "display(tutorial_count_pivot)\n",
    "\n",
    "print(\n",
    "    'Процент пользователей, проходивших обучение более 1-го раза: {:.4}%'.format(users_with_many_tutorials)\n",
    ")"
   ]
  },
  {
   "cell_type": "markdown",
   "metadata": {},
   "source": [
    "##### Выводы:\n",
    "\n",
    "Исследование показывает, что прохождение обучения влияет на решение пользователя о последующей оплате. Лишь 0.27% не прошедших обучение пользователей в последствии решили совершить покупку в приложении. При этом, в остальных группах конверсия находится в диапазоне от 12% до 15%, что является хорошим показателем для мобильных игр (в среднем по индустрии этот показатель составляет 2-3%, согласно рекламному агенству TapJoy).\n",
    "\n",
    "Стоит отметить, что достаточное количество пользователей (13.83%) прошли обучении более одного раза, что может говорить о том, что приложение недостаточно интуитивно и следует обратить внимание непосредственно на интерфейс приложения и на содержимое самого обучения."
   ]
  },
  {
   "cell_type": "markdown",
   "metadata": {},
   "source": [
    "#### Гипотеза №3:"
   ]
  },
  {
   "cell_type": "code",
   "execution_count": null,
   "metadata": {},
   "outputs": [
    {
     "name": "stdout",
     "output_type": "stream",
     "text": [
      "Количество пользователей, начавших обучение после выбора уровня сложности: 1386\n",
      "Процент пользователей с началом обучения после выбора уровня сложности по отношению к общему количеству пользователей, выбравших уровень сложности: 16.61%\n"
     ]
    }
   ],
   "source": [
    "# Создаем два датафрейма с событиями начала обучения и выбора уровня сложности.\n",
    "tutorial_start_df = total_events_2018[total_events_2018.event_type == 'tutorial_start']\n",
    "level_choice_df = total_events_2018[total_events_2018.event_type == 'level_choice']\n",
    "\n",
    "# Объединяем датафреймы.\n",
    "merged_df = tutorial_start_df[['user_id','start_time']].merge(\n",
    "    level_choice_df[['user_id','start_time']],\n",
    "    how='inner',\n",
    "    on='user_id',\n",
    "    suffixes=('_ts','_lc')\n",
    ")\n",
    "merged_df = merged_df.rename(columns={'start_time_ts': 'tutorial_start',\n",
    "                                      'start_time_lc': 'level_choice'})\n",
    "\n",
    "# Создаем столбец с подсчетом времени между выбором уровня и началом обучения.\n",
    "merged_df['timedelta'] = (merged_df.level_choice - merged_df.tutorial_start) / pd.Timedelta('1 hour')\n",
    "\n",
    "# Считаем количество пользователей, дошедших до этапа выбора сложности, и пользователей, начавших обучение после выбора сложности.\n",
    "\n",
    "confused_users = merged_df.query('timedelta < 0').user_id.nunique()\n",
    "users_with_level_choice = total_events_2018[total_events_2018.event_type == 'level_choice'].user_id.to_list()\n",
    "\n",
    "percentage = (confused_users / len(set(users_with_level_choice)))\n",
    "print(\n",
    "    'Количество пользователей, начавших обучение после выбора уровня сложности:', confused_users\n",
    ")\n",
    "print(\n",
    "    'Процент пользователей с началом обучения после выбора уровня сложности по отношению к общему количеству пользователей, выбравших уровень сложности: {:.2%}'.format(percentage)\n",
    ")"
   ]
  },
  {
   "cell_type": "markdown",
   "metadata": {},
   "source": [
    "##### Выводы:\n",
    "1386 пользователей начали обучение после выбора уровня сложности, что составляет 16.61% от всех пользователей, выбравших уровень сложности. Это высокий процент, который говорит о том, что пользователям не до конца понятен процесс взаимодействия с игрой."
   ]
  },
  {
   "cell_type": "markdown",
   "metadata": {},
   "source": [
    "#### Заключение:\n",
    "В целом, принимая во внимание результаты исследования гипотез, стоит отметить, что наша мобильная игра имеет высокий показатель конверсии. Следует обратить внимание на интерфейс, чтобы заинтересовать пользователя в прохождении обучения (возможно мотивировать при помощи дополнительной награды за успешное прохождение обучения), так как в итоге оно положительно влияет на решение пользователя о совершении покупки. Также стоит уделить внимание непосредственно содержанию обучения, чтобы процесс взаимодействия с игрой стал более прозрачным."
   ]
  }
 ],
 "metadata": {
  "kernelspec": {
   "display_name": "Python 3.10.5 64-bit",
   "language": "python",
   "name": "python3"
  },
  "language_info": {
   "codemirror_mode": {
    "name": "ipython",
    "version": 3
   },
   "file_extension": ".py",
   "mimetype": "text/x-python",
   "name": "python",
   "nbconvert_exporter": "python",
   "pygments_lexer": "ipython3",
   "version": "3.10.5"
  },
  "orig_nbformat": 4,
  "vscode": {
   "interpreter": {
    "hash": "722d09a8781532efa226d059be4683b3974ba3e1bb8681e156130719a6eebf7f"
   }
  }
 },
 "nbformat": 4,
 "nbformat_minor": 2
}
