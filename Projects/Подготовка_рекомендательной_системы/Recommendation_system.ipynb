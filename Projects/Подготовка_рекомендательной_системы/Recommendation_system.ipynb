{
 "cells": [
  {
   "cell_type": "markdown",
   "metadata": {},
   "source": [
    "#### ЛЕГЕНДА\n",
    "Работа аналитиком в онлайн-школе **MasterMind**.\n",
    "\n",
    "Уже в конце рабочего дня вам пишет расстроенный продакт-менеджер. Он крайне расстроен, что новые курсы, созданные с той же любовью, что и прежние, не пользуются особой популярностью среди пользователей — несмотря на все усилия отдела маркетинга.\n",
    "\n",
    "![](https://lms.skillfactory.ru/assets/courseware/v1/bca33e459e6c5eceafe99fc605387548/asset-v1:SkillFactory+DAPR-2.0+MAR2021+type@asset+block/sda_3.0_od_55.2_0.png)\n",
    "#### ЦЕЛЬ\n",
    "Подготовить основу рекомендательной системы.\n",
    "\n",
    "#### ЗАДАЧИ\n",
    "Итак, продакт ожидает получить рекомендательную систему, благодаря которой можно будет предлагать клиентам интересные им курсы и тем самым повышать средний чек.\n",
    "\n",
    "Изначальным воплощением этой системы может стать таблица, в которой курсам будет соответствовать по две рекомендации.\n",
    "\n",
    "Кроме того, планируется вместе с отчётом (таблицей рекомендаций) скинуть продакту ещё и все написанные в процессе скрипты, чтобы было меньше вопросов по решению. Поэтому необходимо снабдить код комментариями, которые бы разъясняли, что и почему делается.\n",
    "\n",
    "Перед внедрением фичи провести A/B-тест и проанализировать результаты.\n",
    "\n",
    "#### КОНКРЕТНЫЕ ШАГИ (ФОРМАЛИЗОВАННЫЕ ЗАДАЧИ)\n",
    "\n",
    "- Познакомиться с датасетом, подготовить и проанализировать данные с помощью SQL.\n",
    "- Обработать данные средствами Python.\n",
    "- Составить итоговую таблицу с рекомендациями, снабдив её необходимыми комментариями, и представить отчёт продакт-менеджеру.\n",
    "- Проанализировать результаты A/B-теста, проведённого после внедрения фичи, и сделать вывод."
   ]
  },
  {
   "cell_type": "code",
   "execution_count": 2,
   "metadata": {},
   "outputs": [],
   "source": [
    "# Импортируем все необходимые библиотеки\n",
    "import pandas as pd\n",
    "import psycopg2\n",
    "import psycopg2.extras\n",
    "import plotly.express as px\n",
    "import random\n",
    "from itertools import combinations"
   ]
  },
  {
   "cell_type": "markdown",
   "metadata": {},
   "source": [
    "Итак, у продакт-менеджера есть идея создать простую рекомендательную систему, которая будет подсказывать пользователям, какие курсы могут быть им интересны. Такая система позволит организовать допродажу в корзине и тем самым увеличить средний чек.\n",
    "\n",
    "Нужно составить для маркетингового отдела такую таблицу, где с каждым курсом будут сопредставлены ещё два — которые будут рекомендоваться. \n",
    "\n",
    "##### **Изучаем содержимое:**\n",
    "В распоряжении у нас две таблицы:\n",
    "\n",
    "- **carts** с данными о пользовательских корзинах (дате создания, статусе, id пользователя-владельца и т. д.);\n",
    "  - **Promo Code ID** - ID промокода, если он есть\n",
    "  - **Purchased At** - дата оплаты\n",
    "  - **User ID** - ID пользователя\n",
    "  - **Created At** - дата создания корзины\n",
    "  - **Updated At** - дата последнего обновления информации\n",
    "  - **ID** - идентификатор корзины\n",
    "  - **State** - состояние оплаты\n",
    "- **cart items** с данными о курсах, которые пользователи добавили в корзину.\n",
    "  - **Created At** - дата создания события\n",
    "  - **Resource Type** - тип продукта\n",
    "  - **Resource ID** - ID курса\n",
    "  - **Cart ID** - идентификатор корзины\n",
    "  - **Updated At**- дата последнего обновления информации\n",
    "  - **ID** - идентификатор операции\n",
    "\n",
    "Для начала изучим данные более подробно."
   ]
  },
  {
   "cell_type": "code",
   "execution_count": 3,
   "metadata": {},
   "outputs": [
    {
     "data": {
      "text/html": [
       "<div>\n",
       "<style scoped>\n",
       "    .dataframe tbody tr th:only-of-type {\n",
       "        vertical-align: middle;\n",
       "    }\n",
       "\n",
       "    .dataframe tbody tr th {\n",
       "        vertical-align: top;\n",
       "    }\n",
       "\n",
       "    .dataframe thead th {\n",
       "        text-align: right;\n",
       "    }\n",
       "</style>\n",
       "<table border=\"1\" class=\"dataframe\">\n",
       "  <thead>\n",
       "    <tr style=\"text-align: right;\">\n",
       "      <th></th>\n",
       "      <th>date_trunc</th>\n",
       "    </tr>\n",
       "  </thead>\n",
       "  <tbody>\n",
       "    <tr>\n",
       "      <th>0</th>\n",
       "      <td>NaT</td>\n",
       "    </tr>\n",
       "    <tr>\n",
       "      <th>1</th>\n",
       "      <td>2017-01-01</td>\n",
       "    </tr>\n",
       "    <tr>\n",
       "      <th>2</th>\n",
       "      <td>2018-01-01</td>\n",
       "    </tr>\n",
       "  </tbody>\n",
       "</table>\n",
       "</div>"
      ],
      "text/plain": [
       "  date_trunc\n",
       "0        NaT\n",
       "1 2017-01-01\n",
       "2 2018-01-01"
      ]
     },
     "execution_count": 3,
     "metadata": {},
     "output_type": "execute_result"
    }
   ],
   "source": [
    "# За какие годы есть данные о продажах:\n",
    "\n",
    "def getData():\n",
    "    query = '''\n",
    "SELECT DISTINCT \n",
    "Date_trunc('year', purchased_at)\n",
    "FROM   final.carts; \n",
    "    '''.format()\n",
    "    conn = psycopg2.connect(dbname='skillfactory',\n",
    "                            user='skillfactory',\n",
    "                            host='84.201.134.129',\n",
    "                            password='cCkxxLVrDE8EbvjueeMedPKt',\n",
    "                            port=5432)\n",
    "    dict_cur = conn.cursor(cursor_factory=psycopg2.extras.DictCursor)\n",
    "    dict_cur.execute(query)\n",
    "    rows = dict_cur.fetchall()\n",
    "    data = []\n",
    "    for row in rows:\n",
    "        data.append(dict(row))\n",
    "    dict_cur.close()\n",
    "    conn.close()\n",
    "    return data\n",
    "df=pd.DataFrame(getData())\n",
    "df\n",
    "\n",
    "# Ответ: 2017 и 2018"
   ]
  },
  {
   "cell_type": "code",
   "execution_count": 4,
   "metadata": {},
   "outputs": [
    {
     "data": {
      "text/html": [
       "<div>\n",
       "<style scoped>\n",
       "    .dataframe tbody tr th:only-of-type {\n",
       "        vertical-align: middle;\n",
       "    }\n",
       "\n",
       "    .dataframe tbody tr th {\n",
       "        vertical-align: top;\n",
       "    }\n",
       "\n",
       "    .dataframe thead th {\n",
       "        text-align: right;\n",
       "    }\n",
       "</style>\n",
       "<table border=\"1\" class=\"dataframe\">\n",
       "  <thead>\n",
       "    <tr style=\"text-align: right;\">\n",
       "      <th></th>\n",
       "      <th>count</th>\n",
       "    </tr>\n",
       "  </thead>\n",
       "  <tbody>\n",
       "    <tr>\n",
       "      <th>0</th>\n",
       "      <td>49006</td>\n",
       "    </tr>\n",
       "  </tbody>\n",
       "</table>\n",
       "</div>"
      ],
      "text/plain": [
       "   count\n",
       "0  49006"
      ]
     },
     "execution_count": 4,
     "metadata": {},
     "output_type": "execute_result"
    }
   ],
   "source": [
    "# Сколько клиентов покупали курсы?\n",
    "\n",
    "def getData():\n",
    "    query = '''\n",
    "SELECT Count(DISTINCT user_id)\n",
    "FROM   final.carts c\n",
    "       JOIN final.cart_items ci\n",
    "               ON c.id = ci.cart_id\n",
    "WHERE  purchased_at IS NOT NULL\n",
    "       AND state = 'successful'\n",
    "       AND resource_type = 'Course'; \n",
    "    '''.format()\n",
    "    conn = psycopg2.connect(dbname='skillfactory',\n",
    "                            user='skillfactory',\n",
    "                            host='84.201.134.129',\n",
    "                            password='cCkxxLVrDE8EbvjueeMedPKt',\n",
    "                            port=5432)\n",
    "    dict_cur = conn.cursor(cursor_factory=psycopg2.extras.DictCursor)\n",
    "    dict_cur.execute(query)\n",
    "    rows = dict_cur.fetchall()\n",
    "    data = []\n",
    "    for row in rows:\n",
    "        data.append(dict(row))\n",
    "    dict_cur.close()\n",
    "    conn.close()\n",
    "    return data\n",
    "df=pd.DataFrame(getData())\n",
    "df\n",
    "\n",
    "# Ответ: 49006"
   ]
  },
  {
   "cell_type": "code",
   "execution_count": 5,
   "metadata": {},
   "outputs": [
    {
     "data": {
      "text/html": [
       "<div>\n",
       "<style scoped>\n",
       "    .dataframe tbody tr th:only-of-type {\n",
       "        vertical-align: middle;\n",
       "    }\n",
       "\n",
       "    .dataframe tbody tr th {\n",
       "        vertical-align: top;\n",
       "    }\n",
       "\n",
       "    .dataframe thead th {\n",
       "        text-align: right;\n",
       "    }\n",
       "</style>\n",
       "<table border=\"1\" class=\"dataframe\">\n",
       "  <thead>\n",
       "    <tr style=\"text-align: right;\">\n",
       "      <th></th>\n",
       "      <th>count</th>\n",
       "    </tr>\n",
       "  </thead>\n",
       "  <tbody>\n",
       "    <tr>\n",
       "      <th>0</th>\n",
       "      <td>127</td>\n",
       "    </tr>\n",
       "  </tbody>\n",
       "</table>\n",
       "</div>"
      ],
      "text/plain": [
       "   count\n",
       "0    127"
      ]
     },
     "execution_count": 5,
     "metadata": {},
     "output_type": "execute_result"
    }
   ],
   "source": [
    "# Сколько всего есть различных курсов?\n",
    "\n",
    "def getData():\n",
    "    query = '''\n",
    "SELECT Count(DISTINCT resource_id)\n",
    "FROM   final.cart_items\n",
    "WHERE  resource_type = 'Course'; \n",
    "    '''.format()\n",
    "    conn = psycopg2.connect(dbname='skillfactory',\n",
    "                            user='skillfactory',\n",
    "                            host='84.201.134.129',\n",
    "                            password='cCkxxLVrDE8EbvjueeMedPKt',\n",
    "                            port=5432)\n",
    "    dict_cur = conn.cursor(cursor_factory=psycopg2.extras.DictCursor)\n",
    "    dict_cur.execute(query)\n",
    "    rows = dict_cur.fetchall()\n",
    "    data = []\n",
    "    for row in rows:\n",
    "        data.append(dict(row))\n",
    "    dict_cur.close()\n",
    "    conn.close()\n",
    "    return data\n",
    "df=pd.DataFrame(getData())\n",
    "df\n",
    "\n",
    "# Ответ: 127"
   ]
  },
  {
   "cell_type": "code",
   "execution_count": 6,
   "metadata": {},
   "outputs": [
    {
     "data": {
      "text/html": [
       "<div>\n",
       "<style scoped>\n",
       "    .dataframe tbody tr th:only-of-type {\n",
       "        vertical-align: middle;\n",
       "    }\n",
       "\n",
       "    .dataframe tbody tr th {\n",
       "        vertical-align: top;\n",
       "    }\n",
       "\n",
       "    .dataframe thead th {\n",
       "        text-align: right;\n",
       "    }\n",
       "</style>\n",
       "<table border=\"1\" class=\"dataframe\">\n",
       "  <thead>\n",
       "    <tr style=\"text-align: right;\">\n",
       "      <th></th>\n",
       "      <th>avg</th>\n",
       "    </tr>\n",
       "  </thead>\n",
       "  <tbody>\n",
       "    <tr>\n",
       "      <th>0</th>\n",
       "      <td>1.4402522140146105</td>\n",
       "    </tr>\n",
       "  </tbody>\n",
       "</table>\n",
       "</div>"
      ],
      "text/plain": [
       "                  avg\n",
       "0  1.4402522140146105"
      ]
     },
     "execution_count": 6,
     "metadata": {},
     "output_type": "execute_result"
    }
   ],
   "source": [
    "# Каково среднее число купленных курсов на одного клиента?\n",
    "\n",
    "def getData():\n",
    "    query = '''\n",
    "WITH purchased_courses\n",
    "     AS (SELECT user_id,\n",
    "                Count(*) course_cnt\n",
    "         FROM   final.carts c\n",
    "                JOIN final.cart_items ci\n",
    "                        ON c.id = ci.cart_id\n",
    "         WHERE  purchased_at IS NOT NULL\n",
    "                AND state = 'successful'\n",
    "                AND resource_type = 'Course'\n",
    "         GROUP  BY 1)\n",
    "SELECT Avg(course_cnt)\n",
    "FROM   purchased_courses \n",
    "    '''.format()\n",
    "    conn = psycopg2.connect(dbname='skillfactory',\n",
    "                            user='skillfactory',\n",
    "                            host='84.201.134.129',\n",
    "                            password='cCkxxLVrDE8EbvjueeMedPKt',\n",
    "                            port=5432)\n",
    "    dict_cur = conn.cursor(cursor_factory=psycopg2.extras.DictCursor)\n",
    "    dict_cur.execute(query)\n",
    "    rows = dict_cur.fetchall()\n",
    "    data = []\n",
    "    for row in rows:\n",
    "        data.append(dict(row))\n",
    "    dict_cur.close()\n",
    "    conn.close()\n",
    "    return data\n",
    "df=pd.DataFrame(getData())\n",
    "df\n",
    "\n",
    "# Ответ: 1.44"
   ]
  },
  {
   "cell_type": "code",
   "execution_count": 7,
   "metadata": {},
   "outputs": [
    {
     "data": {
      "text/html": [
       "<div>\n",
       "<style scoped>\n",
       "    .dataframe tbody tr th:only-of-type {\n",
       "        vertical-align: middle;\n",
       "    }\n",
       "\n",
       "    .dataframe tbody tr th {\n",
       "        vertical-align: top;\n",
       "    }\n",
       "\n",
       "    .dataframe thead th {\n",
       "        text-align: right;\n",
       "    }\n",
       "</style>\n",
       "<table border=\"1\" class=\"dataframe\">\n",
       "  <thead>\n",
       "    <tr style=\"text-align: right;\">\n",
       "      <th></th>\n",
       "      <th>count</th>\n",
       "    </tr>\n",
       "  </thead>\n",
       "  <tbody>\n",
       "    <tr>\n",
       "      <th>0</th>\n",
       "      <td>12656</td>\n",
       "    </tr>\n",
       "  </tbody>\n",
       "</table>\n",
       "</div>"
      ],
      "text/plain": [
       "   count\n",
       "0  12656"
      ]
     },
     "execution_count": 7,
     "metadata": {},
     "output_type": "execute_result"
    }
   ],
   "source": [
    "# Сколько клиентов купили больше одного курса?\n",
    "\n",
    "def getData():\n",
    "    query = '''\n",
    "SELECT Count(*)\n",
    "FROM   (SELECT user_id,\n",
    "               Count(DISTINCT resource_id) AS courses_cnt\n",
    "        FROM   final.carts c\n",
    "               JOIN final.cart_items ci\n",
    "                 ON c.id = ci.cart_id\n",
    "        WHERE  purchased_at IS NOT NULL AND state = 'successful' AND resource_type = 'Course'\n",
    "        GROUP  BY user_id\n",
    "        HAVING Count(DISTINCT resource_id) > 1) AS users_table \n",
    "    '''.format()\n",
    "    conn = psycopg2.connect(dbname='skillfactory',\n",
    "                            user='skillfactory',\n",
    "                            host='84.201.134.129',\n",
    "                            password='cCkxxLVrDE8EbvjueeMedPKt',\n",
    "                            port=5432)\n",
    "    dict_cur = conn.cursor(cursor_factory=psycopg2.extras.DictCursor)\n",
    "    dict_cur.execute(query)\n",
    "    rows = dict_cur.fetchall()\n",
    "    data = []\n",
    "    for row in rows:\n",
    "        data.append(dict(row))\n",
    "    dict_cur.close()\n",
    "    conn.close()\n",
    "    return data\n",
    "df=pd.DataFrame(getData())\n",
    "df\n",
    "\n",
    "# Ответ: 12656"
   ]
  },
  {
   "cell_type": "markdown",
   "metadata": {},
   "source": [
    "#### Пишем финальный запрос:\n",
    "\n",
    "Для построения рекомендательной системы полезно знать, какие курсы чаще всего покупают вместе с конкретным курсом (необязательно в рамках одной корзины).\n",
    "\n",
    "Подготовиим таблицу с данными по продажам курсов в разрезе пользователей, купивших более одного курса."
   ]
  },
  {
   "cell_type": "code",
   "execution_count": 8,
   "metadata": {},
   "outputs": [
    {
     "data": {
      "text/html": [
       "<div>\n",
       "<style scoped>\n",
       "    .dataframe tbody tr th:only-of-type {\n",
       "        vertical-align: middle;\n",
       "    }\n",
       "\n",
       "    .dataframe tbody tr th {\n",
       "        vertical-align: top;\n",
       "    }\n",
       "\n",
       "    .dataframe thead th {\n",
       "        text-align: right;\n",
       "    }\n",
       "</style>\n",
       "<table border=\"1\" class=\"dataframe\">\n",
       "  <thead>\n",
       "    <tr style=\"text-align: right;\">\n",
       "      <th></th>\n",
       "      <th>user_id</th>\n",
       "      <th>course_id</th>\n",
       "    </tr>\n",
       "  </thead>\n",
       "  <tbody>\n",
       "    <tr>\n",
       "      <th>0</th>\n",
       "      <td>909757</td>\n",
       "      <td>356</td>\n",
       "    </tr>\n",
       "    <tr>\n",
       "      <th>1</th>\n",
       "      <td>583850</td>\n",
       "      <td>515</td>\n",
       "    </tr>\n",
       "    <tr>\n",
       "      <th>2</th>\n",
       "      <td>1559882</td>\n",
       "      <td>566</td>\n",
       "    </tr>\n",
       "    <tr>\n",
       "      <th>3</th>\n",
       "      <td>970967</td>\n",
       "      <td>679</td>\n",
       "    </tr>\n",
       "    <tr>\n",
       "      <th>4</th>\n",
       "      <td>1640443</td>\n",
       "      <td>566</td>\n",
       "    </tr>\n",
       "  </tbody>\n",
       "</table>\n",
       "</div>"
      ],
      "text/plain": [
       "   user_id  course_id\n",
       "0   909757        356\n",
       "1   583850        515\n",
       "2  1559882        566\n",
       "3   970967        679\n",
       "4  1640443        566"
      ]
     },
     "execution_count": 8,
     "metadata": {},
     "output_type": "execute_result"
    }
   ],
   "source": [
    "def getData():\n",
    "    query = '''\n",
    "SELECT DISTINCT\n",
    "    user_id,\n",
    "    resource_id course_id\n",
    "FROM   final.carts c\n",
    "JOIN   final.cart_items ci ON c.id = ci.cart_id\n",
    "WHERE  purchased_at IS NOT NULL AND state = 'successful' AND resource_type = 'Course' AND user_id in \n",
    "        (SELECT \n",
    "            user_id\n",
    "        FROM   final.carts c\n",
    "        JOIN   final.cart_items ci ON c.id = ci.cart_id\n",
    "        WHERE  purchased_at IS NOT NULL AND state = 'successful' AND resource_type = 'Course'\n",
    "        GROUP  BY user_id\n",
    "        HAVING Count(DISTINCT resource_id) > 1)\n",
    "    '''.format()\n",
    "    conn = psycopg2.connect(dbname='skillfactory',\n",
    "                            user='skillfactory',\n",
    "                            host='84.201.134.129',\n",
    "                            password='cCkxxLVrDE8EbvjueeMedPKt',\n",
    "                            port=5432)\n",
    "    dict_cur = conn.cursor(cursor_factory=psycopg2.extras.DictCursor)\n",
    "    dict_cur.execute(query)\n",
    "    rows = dict_cur.fetchall()\n",
    "    data = []\n",
    "    for row in rows:\n",
    "        data.append(dict(row))\n",
    "    dict_cur.close()\n",
    "    conn.close()\n",
    "    return data\n",
    "df_final=pd.DataFrame(getData())\n",
    "df_final.head()"
   ]
  },
  {
   "cell_type": "markdown",
   "metadata": {},
   "source": [
    "Мы получили датафрейм с id пользователя и купленными им курсами.\n",
    "\n",
    "Разобьем все покупки курсов по парам c сортировкой по количеству покупок."
   ]
  },
  {
   "cell_type": "code",
   "execution_count": 9,
   "metadata": {},
   "outputs": [
    {
     "data": {
      "text/plain": [
       "(551, 566)     797\n",
       "(515, 551)     417\n",
       "(489, 551)     311\n",
       "(523, 551)     304\n",
       "(566, 794)     290\n",
       "              ... \n",
       "(362, 1102)      1\n",
       "(362, 908)       1\n",
       "(365, 659)       1\n",
       "(361, 659)       1\n",
       "(756, 1185)      1\n",
       "Name: course_id, Length: 3989, dtype: int64"
      ]
     },
     "execution_count": 9,
     "metadata": {},
     "output_type": "execute_result"
    }
   ],
   "source": [
    "def combs(column):\n",
    "    return pd.Series(list(combinations(sorted(column), 2)))\n",
    "\n",
    "# При помощи функции combinations разбиваем курсы по парам и считаем количества покупок.\n",
    "# На выходе получили объект типа Series.\n",
    "\n",
    "res = df_final.groupby('user_id')['course_id'].apply(combs).value_counts()\n",
    "res"
   ]
  },
  {
   "cell_type": "markdown",
   "metadata": {},
   "source": [
    "Из результата видно, что количество различных пар курсов равно 3989."
   ]
  },
  {
   "cell_type": "code",
   "execution_count": 10,
   "metadata": {},
   "outputs": [
    {
     "data": {
      "text/html": [
       "<div>\n",
       "<style scoped>\n",
       "    .dataframe tbody tr th:only-of-type {\n",
       "        vertical-align: middle;\n",
       "    }\n",
       "\n",
       "    .dataframe tbody tr th {\n",
       "        vertical-align: top;\n",
       "    }\n",
       "\n",
       "    .dataframe thead th {\n",
       "        text-align: right;\n",
       "    }\n",
       "</style>\n",
       "<table border=\"1\" class=\"dataframe\">\n",
       "  <thead>\n",
       "    <tr style=\"text-align: right;\">\n",
       "      <th></th>\n",
       "      <th>combos</th>\n",
       "      <th>course_1</th>\n",
       "      <th>course_2</th>\n",
       "      <th>cnt</th>\n",
       "    </tr>\n",
       "  </thead>\n",
       "  <tbody>\n",
       "    <tr>\n",
       "      <th>0</th>\n",
       "      <td>(551, 566)</td>\n",
       "      <td>551</td>\n",
       "      <td>566</td>\n",
       "      <td>797</td>\n",
       "    </tr>\n",
       "    <tr>\n",
       "      <th>1</th>\n",
       "      <td>(515, 551)</td>\n",
       "      <td>515</td>\n",
       "      <td>551</td>\n",
       "      <td>417</td>\n",
       "    </tr>\n",
       "    <tr>\n",
       "      <th>2</th>\n",
       "      <td>(489, 551)</td>\n",
       "      <td>489</td>\n",
       "      <td>551</td>\n",
       "      <td>311</td>\n",
       "    </tr>\n",
       "    <tr>\n",
       "      <th>3</th>\n",
       "      <td>(523, 551)</td>\n",
       "      <td>523</td>\n",
       "      <td>551</td>\n",
       "      <td>304</td>\n",
       "    </tr>\n",
       "    <tr>\n",
       "      <th>4</th>\n",
       "      <td>(566, 794)</td>\n",
       "      <td>566</td>\n",
       "      <td>794</td>\n",
       "      <td>290</td>\n",
       "    </tr>\n",
       "    <tr>\n",
       "      <th>5</th>\n",
       "      <td>(489, 515)</td>\n",
       "      <td>489</td>\n",
       "      <td>515</td>\n",
       "      <td>286</td>\n",
       "    </tr>\n",
       "    <tr>\n",
       "      <th>6</th>\n",
       "      <td>(490, 566)</td>\n",
       "      <td>490</td>\n",
       "      <td>566</td>\n",
       "      <td>253</td>\n",
       "    </tr>\n",
       "    <tr>\n",
       "      <th>7</th>\n",
       "      <td>(490, 551)</td>\n",
       "      <td>490</td>\n",
       "      <td>551</td>\n",
       "      <td>247</td>\n",
       "    </tr>\n",
       "    <tr>\n",
       "      <th>8</th>\n",
       "      <td>(570, 752)</td>\n",
       "      <td>570</td>\n",
       "      <td>752</td>\n",
       "      <td>247</td>\n",
       "    </tr>\n",
       "    <tr>\n",
       "      <th>9</th>\n",
       "      <td>(569, 572)</td>\n",
       "      <td>569</td>\n",
       "      <td>572</td>\n",
       "      <td>216</td>\n",
       "    </tr>\n",
       "  </tbody>\n",
       "</table>\n",
       "</div>"
      ],
      "text/plain": [
       "       combos  course_1  course_2  cnt\n",
       "0  (551, 566)       551       566  797\n",
       "1  (515, 551)       515       551  417\n",
       "2  (489, 551)       489       551  311\n",
       "3  (523, 551)       523       551  304\n",
       "4  (566, 794)       566       794  290\n",
       "5  (489, 515)       489       515  286\n",
       "6  (490, 566)       490       566  253\n",
       "7  (490, 551)       490       551  247\n",
       "8  (570, 752)       570       752  247\n",
       "9  (569, 572)       569       572  216"
      ]
     },
     "execution_count": 10,
     "metadata": {},
     "output_type": "execute_result"
    }
   ],
   "source": [
    "# Трансформируем предыдущий список в датафрейм.\n",
    "frame = res.to_frame().reset_index()\n",
    "frame = frame.rename(columns={'index':'combos','course_id':'cnt'})\n",
    "\n",
    "# Разобъем кортеж из первого столбца по отдельным столбцам и реорганизуем столбцы.\n",
    "frame['course_1'], frame['course_2'] = zip(*frame.combos)\n",
    "frame = frame.reindex(columns=['combos','course_1', 'course_2','cnt'])\n",
    "frame.head(10)\n",
    "\n",
    "# Самая популярная пара кусов - (551, 566) с количеством покупок равным 797."
   ]
  },
  {
   "cell_type": "code",
   "execution_count": 11,
   "metadata": {},
   "outputs": [
    {
     "data": {
      "text/plain": [
       "count    3989.000000\n",
       "mean       10.031838\n",
       "std        26.355998\n",
       "min         1.000000\n",
       "25%         1.000000\n",
       "50%         3.000000\n",
       "75%         9.000000\n",
       "max       797.000000\n",
       "Name: cnt, dtype: float64"
      ]
     },
     "execution_count": 11,
     "metadata": {},
     "output_type": "execute_result"
    }
   ],
   "source": [
    "# Посмотрим описательную статистику. \n",
    "frame.cnt.describe()"
   ]
  },
  {
   "cell_type": "markdown",
   "metadata": {},
   "source": [
    "Очевидно, что большое количество кобинаций покупали малое количество раз."
   ]
  },
  {
   "cell_type": "code",
   "execution_count": 12,
   "metadata": {},
   "outputs": [
    {
     "data": {
      "image/png": "[encoded data removed]"
     },
     "metadata": {},
     "output_type": "display_data"
    }
   ],
   "source": [
    "# Посмотрим на распределение количества покупок.\n",
    "fig = px.histogram(frame, x='cnt')\n",
    "fig.show('png')"
   ]
  },
  {
   "cell_type": "markdown",
   "metadata": {},
   "source": [
    "Из графика видно, что распределение имеет экспоненциальный характер. При этом выбросы с правой стороны имеют очень высокие значения, что говорит о нецелесообразности использования средней для определения минимальной границы для рекомендаций."
   ]
  },
  {
   "cell_type": "markdown",
   "metadata": {},
   "source": [
    "Для определения минимальной границы было бы логично использовать медиану, но так как непопулярных комбинаций курсов крайне много, я решила остановиться на 60% квантиле, значение которого равно 5.\n",
    "\n",
    "Для выведения списка курсов, которые будут случайным образом выдаваться в качестве рекомендаций, я решила, на основании переписки с продакт-менеджером, взять топ 5% пар курсов (95% квантиль) по количеству продаж (все-таки нас интересуют самые популярные курсы)."
   ]
  },
  {
   "cell_type": "code",
   "execution_count": 13,
   "metadata": {},
   "outputs": [
    {
     "name": "stdout",
     "output_type": "stream",
     "text": [
      "5.0\n",
      "37.59999999999991\n"
     ]
    }
   ],
   "source": [
    "print(frame.cnt.quantile(0.60))\n",
    "print(frame.cnt.quantile(0.95))"
   ]
  },
  {
   "cell_type": "code",
   "execution_count": 14,
   "metadata": {},
   "outputs": [
    {
     "name": "stdout",
     "output_type": "stream",
     "text": [
      "Количестово курсов, которые будут выдаваться в качестве рекомендаций: 63\n"
     ]
    }
   ],
   "source": [
    "low_value = frame.cnt.quantile(0.60)\n",
    "\n",
    "# Для выбора курсов для рекомендаций выбираем курсы только из самых продаваемых комбинаций (топ 5%).\n",
    "courses_1 = frame[frame.cnt > frame.cnt.quantile(0.95)].course_1.to_list()\n",
    "courses_2 = frame[frame.cnt > frame.cnt.quantile(0.95)].course_2.to_list()\n",
    "\n",
    "# Создаем список с уникальными значениями курсов\n",
    "# (именно список, так как функция random.choice, которую мы будем впоследствии использовать, некорректно работает со множествами).\n",
    "best_courses = list(set(courses_1).union(set(courses_2)))\n",
    "print('Количестово курсов, которые будут выдаваться в качестве рекомендаций:', len(best_courses))"
   ]
  },
  {
   "cell_type": "code",
   "execution_count": 15,
   "metadata": {},
   "outputs": [
    {
     "data": {
      "text/html": [
       "<div>\n",
       "<style scoped>\n",
       "    .dataframe tbody tr th:only-of-type {\n",
       "        vertical-align: middle;\n",
       "    }\n",
       "\n",
       "    .dataframe tbody tr th {\n",
       "        vertical-align: top;\n",
       "    }\n",
       "\n",
       "    .dataframe thead th {\n",
       "        text-align: right;\n",
       "    }\n",
       "</style>\n",
       "<table border=\"1\" class=\"dataframe\">\n",
       "  <thead>\n",
       "    <tr style=\"text-align: right;\">\n",
       "      <th></th>\n",
       "      <th>course_id</th>\n",
       "    </tr>\n",
       "  </thead>\n",
       "  <tbody>\n",
       "    <tr>\n",
       "      <th>0</th>\n",
       "      <td>356</td>\n",
       "    </tr>\n",
       "    <tr>\n",
       "      <th>1</th>\n",
       "      <td>515</td>\n",
       "    </tr>\n",
       "    <tr>\n",
       "      <th>2</th>\n",
       "      <td>566</td>\n",
       "    </tr>\n",
       "    <tr>\n",
       "      <th>3</th>\n",
       "      <td>679</td>\n",
       "    </tr>\n",
       "    <tr>\n",
       "      <th>4</th>\n",
       "      <td>551</td>\n",
       "    </tr>\n",
       "  </tbody>\n",
       "</table>\n",
       "</div>"
      ],
      "text/plain": [
       "   course_id\n",
       "0        356\n",
       "1        515\n",
       "2        566\n",
       "3        679\n",
       "4        551"
      ]
     },
     "execution_count": 15,
     "metadata": {},
     "output_type": "execute_result"
    }
   ],
   "source": [
    "# Создадим таблицу, в которую будем заносить рекомендации.\n",
    "recommendation_table = pd.DataFrame(df_final.course_id.unique(), columns=['course_id'])\n",
    "recommendation_table.head()"
   ]
  },
  {
   "cell_type": "code",
   "execution_count": 16,
   "metadata": {},
   "outputs": [],
   "source": [
    "# Делаем функцию для первой рекомендации.\n",
    "def first_recommendation(id):\n",
    "    for i in range(frame.shape[0]):\n",
    "        # Проверяем, находится ли id курса в комбинациях и превышает ли количество покупок минимальную границу для рекомендаций.  \n",
    "        if id in frame.combos[i] and frame.cnt[i] > low_value:\n",
    "            # Далее смотрим на какой позиции в кортеже находится курс и выдаем в рекомендацию его пару из кортежа.\n",
    "            if id == frame.combos[i][0]:\n",
    "                return frame.combos[i][1]\n",
    "            elif id == frame.combos[i][1]:\n",
    "                return frame.combos[i][0]\n",
    "        # Если количество покупок менее или равно минимальной границе, то выдаем случайный курс из списка best_courses.\n",
    "        elif id in frame.combos[i] and frame.cnt[i] <= low_value:\n",
    "            return random.choice(best_courses)"
   ]
  },
  {
   "cell_type": "code",
   "execution_count": 17,
   "metadata": {},
   "outputs": [],
   "source": [
    "# Делаем функцию для второй рекомендации.\n",
    "# Функция аналогична пердыдущей с той лишь разницей, что идет проверка со столбцом с первой рекомендацией,\n",
    "# чтобы случайно не выдавались одинаковые значения.\n",
    " \n",
    "def second_recommendation(id):\n",
    "    index = recommendation_table.index[recommendation_table['course_id'] == id][0]\n",
    "    for i in range(frame.shape[0]):\n",
    "        if id in frame.combos[i] and frame.cnt[i] > low_value:\n",
    "            if id == frame.combos[i][0] and recommendation_table.loc[index, 'first_recommendation'] != frame.combos[i][1]:\n",
    "                return frame.combos[i][1]\n",
    "            elif id == frame.combos[i][1] and recommendation_table.loc[index, 'first_recommendation'] != frame.combos[i][0]:\n",
    "                return frame.combos[i][0]\n",
    "        elif id in frame.combos[i] and frame.cnt[i] <= low_value:\n",
    "            rnd = random.choice(best_courses)\n",
    "            if recommendation_table.loc[index, 'first_recommendation'] != rnd:\n",
    "                return rnd\n",
    "            else:\n",
    "                return second_recommendation(id)"
   ]
  },
  {
   "cell_type": "code",
   "execution_count": 18,
   "metadata": {},
   "outputs": [
    {
     "data": {
      "text/html": [
       "<div>\n",
       "<style scoped>\n",
       "    .dataframe tbody tr th:only-of-type {\n",
       "        vertical-align: middle;\n",
       "    }\n",
       "\n",
       "    .dataframe tbody tr th {\n",
       "        vertical-align: top;\n",
       "    }\n",
       "\n",
       "    .dataframe thead th {\n",
       "        text-align: right;\n",
       "    }\n",
       "</style>\n",
       "<table border=\"1\" class=\"dataframe\">\n",
       "  <thead>\n",
       "    <tr style=\"text-align: right;\">\n",
       "      <th></th>\n",
       "      <th>course_id</th>\n",
       "      <th>first_recommendation</th>\n",
       "      <th>second_recommendation</th>\n",
       "    </tr>\n",
       "  </thead>\n",
       "  <tbody>\n",
       "    <tr>\n",
       "      <th>0</th>\n",
       "      <td>356</td>\n",
       "      <td>571</td>\n",
       "      <td>357</td>\n",
       "    </tr>\n",
       "    <tr>\n",
       "      <th>1</th>\n",
       "      <td>515</td>\n",
       "      <td>551</td>\n",
       "      <td>489</td>\n",
       "    </tr>\n",
       "    <tr>\n",
       "      <th>2</th>\n",
       "      <td>566</td>\n",
       "      <td>551</td>\n",
       "      <td>794</td>\n",
       "    </tr>\n",
       "    <tr>\n",
       "      <th>3</th>\n",
       "      <td>679</td>\n",
       "      <td>551</td>\n",
       "      <td>489</td>\n",
       "    </tr>\n",
       "    <tr>\n",
       "      <th>4</th>\n",
       "      <td>551</td>\n",
       "      <td>566</td>\n",
       "      <td>515</td>\n",
       "    </tr>\n",
       "    <tr>\n",
       "      <th>...</th>\n",
       "      <td>...</td>\n",
       "      <td>...</td>\n",
       "      <td>...</td>\n",
       "    </tr>\n",
       "    <tr>\n",
       "      <th>121</th>\n",
       "      <td>1182</td>\n",
       "      <td>809</td>\n",
       "      <td>502</td>\n",
       "    </tr>\n",
       "    <tr>\n",
       "      <th>122</th>\n",
       "      <td>865</td>\n",
       "      <td>829</td>\n",
       "      <td>1103</td>\n",
       "    </tr>\n",
       "    <tr>\n",
       "      <th>123</th>\n",
       "      <td>866</td>\n",
       "      <td>753</td>\n",
       "      <td>752</td>\n",
       "    </tr>\n",
       "    <tr>\n",
       "      <th>124</th>\n",
       "      <td>1200</td>\n",
       "      <td>777</td>\n",
       "      <td>489</td>\n",
       "    </tr>\n",
       "    <tr>\n",
       "      <th>125</th>\n",
       "      <td>1201</td>\n",
       "      <td>566</td>\n",
       "      <td>572</td>\n",
       "    </tr>\n",
       "  </tbody>\n",
       "</table>\n",
       "<p>126 rows × 3 columns</p>\n",
       "</div>"
      ],
      "text/plain": [
       "     course_id  first_recommendation  second_recommendation\n",
       "0          356                   571                    357\n",
       "1          515                   551                    489\n",
       "2          566                   551                    794\n",
       "3          679                   551                    489\n",
       "4          551                   566                    515\n",
       "..         ...                   ...                    ...\n",
       "121       1182                   809                    502\n",
       "122        865                   829                   1103\n",
       "123        866                   753                    752\n",
       "124       1200                   777                    489\n",
       "125       1201                   566                    572\n",
       "\n",
       "[126 rows x 3 columns]"
      ]
     },
     "execution_count": 18,
     "metadata": {},
     "output_type": "execute_result"
    }
   ],
   "source": [
    "# Применяем написанные функции.\n",
    "recommendation_table['first_recommendation'] = recommendation_table.course_id.apply(first_recommendation)\n",
    "recommendation_table['second_recommendation'] = recommendation_table.course_id.apply(second_recommendation)\n",
    "recommendation_table"
   ]
  },
  {
   "cell_type": "markdown",
   "metadata": {},
   "source": [
    "В итоге мы получили таблицу с рекомендациями, которая состоит из 3х столбцов:\n",
    "1. Курс, к которому идет рекомендация;\n",
    "2. Первая рекомендация (самая популярная);\n",
    "3. Вторая рекомендация (вторая по популярности).\n",
    "\n",
    "Для всех курсов, которые не проходили по частоте продаж (от 5-ти и ниже), случайным образом рекомендуется курс из списка курсов с наибольшими количествами продаж. "
   ]
  },
  {
   "cell_type": "code",
   "execution_count": 19,
   "metadata": {},
   "outputs": [
    {
     "data": {
      "text/html": [
       "<div>\n",
       "<style scoped>\n",
       "    .dataframe tbody tr th:only-of-type {\n",
       "        vertical-align: middle;\n",
       "    }\n",
       "\n",
       "    .dataframe tbody tr th {\n",
       "        vertical-align: top;\n",
       "    }\n",
       "\n",
       "    .dataframe thead th {\n",
       "        text-align: right;\n",
       "    }\n",
       "</style>\n",
       "<table border=\"1\" class=\"dataframe\">\n",
       "  <thead>\n",
       "    <tr style=\"text-align: right;\">\n",
       "      <th></th>\n",
       "      <th>combos</th>\n",
       "      <th>course_1</th>\n",
       "      <th>course_2</th>\n",
       "      <th>cnt</th>\n",
       "    </tr>\n",
       "  </thead>\n",
       "  <tbody>\n",
       "    <tr>\n",
       "      <th>48</th>\n",
       "      <td>(356, 571)</td>\n",
       "      <td>356</td>\n",
       "      <td>571</td>\n",
       "      <td>103</td>\n",
       "    </tr>\n",
       "    <tr>\n",
       "      <th>50</th>\n",
       "      <td>(356, 357)</td>\n",
       "      <td>356</td>\n",
       "      <td>357</td>\n",
       "      <td>100</td>\n",
       "    </tr>\n",
       "  </tbody>\n",
       "</table>\n",
       "</div>"
      ],
      "text/plain": [
       "        combos  course_1  course_2  cnt\n",
       "48  (356, 571)       356       571  103\n",
       "50  (356, 357)       356       357  100"
      ]
     },
     "execution_count": 19,
     "metadata": {},
     "output_type": "execute_result"
    }
   ],
   "source": [
    "# Код для самопроверки, показывающий топ две комбинации для какого-либо курса\n",
    "id = 356\n",
    "frame[(frame.course_1 == id) | (frame.course_2 == id)].nlargest(2, columns='cnt')"
   ]
  },
  {
   "cell_type": "markdown",
   "metadata": {},
   "source": [
    "### Тестирование гипотезы\n",
    "\n",
    "Спустя месяц на сайте появляется новая функциональность — та самая, в подготовке которой мы участвовали. Теперь пользователи могут получать предложения добавить в корзину ещё курсы, которые могли бы им подойти.\n",
    "\n",
    "Но прежде чем раскатывать рекомендательную систему на всех пользователей, коллеги хотят оценить эффективность этой функции и качество подбора рекомендаций и запускают для этого сплит-тест."
   ]
  },
  {
   "cell_type": "markdown",
   "metadata": {},
   "source": [
    "#### Запуск A/B-теста:\n",
    "Все клиенты случайным образом делятся на контрольную и тестовую группы: тестовой группе показываются рекомендации, а контрольной — нет.\n",
    "\n",
    "**До реализации рекомендаций средняя конверсия в покупку второго курса была 3,2%. Ожидается, что ввод рекомендаций сможет поднять её до 4%.**\n",
    "\n",
    "Определим минимальный размер выборки для проведения теста при уровне достоверности 95% и статистической мощности 80%. Для расчёта воспользуемся [онлайн-калькулятором](https://www.evanmiller.org/ab-testing/sample-size.html)."
   ]
  },
  {
   "cell_type": "markdown",
   "metadata": {},
   "source": [
    "![A/B test group count. Если картинка отображается некорректно, перезагрузите страницу.](https://drive.google.com/uc?id=1cgl16d0M4G2i0fZ6dhLhY1PRMzV86QbT)"
   ]
  },
  {
   "cell_type": "markdown",
   "metadata": {},
   "source": [
    "*Прошло три недели...*\n",
    "\n",
    "Каждый из вариантов A/B-теста достиг необходимого размера выборки, и теперь необходимо сделать вывод, можно ли считать реализацию рекомендательной системы успешной, и принять решение о полезности её внедрения. Для этого нужно посчитать ***p-value***. \n",
    "\n",
    "**Оценка результатов:** <br>\n",
    "Численное выражение полученных результатов таково:\n",
    "\n",
    "- В контрольной группе оказалось **8732 клиента**, оформивших заказ, из них **293 купили** больше одного курса.\n",
    "- В тестовой — **8847 клиентов**, из них **347 купили** больше одного курса.\n",
    "\n",
    "Для расчёта воспользуемся [онлайн-калькулятором](https://abtestguide.com/calc/)."
   ]
  },
  {
   "cell_type": "markdown",
   "metadata": {},
   "source": [
    "![Test results. Если картинка отображается некорректно, перезагрузите страницу.](https://drive.google.com/uc?id=13VJz0NEekskbmmzrma1htqvNluN7fiNe)"
   ]
  },
  {
   "cell_type": "code",
   "execution_count": 20,
   "metadata": {},
   "outputs": [
    {
     "data": {
      "text/plain": [
       "True"
      ]
     },
     "execution_count": 20,
     "metadata": {},
     "output_type": "execute_result"
    }
   ],
   "source": [
    "p_value = 0.022\n",
    "alpha = 0.05\n",
    "p_value < alpha"
   ]
  },
  {
   "cell_type": "markdown",
   "metadata": {},
   "source": [
    "Порог значимости равен 0,05, а p-значение – 0,022. Т. к. установленное значение альфа больше p-уровня, делаем вывод, что это статистически значимый результат."
   ]
  }
 ],
 "metadata": {
  "kernelspec": {
   "display_name": "Python 3.10.5 64-bit",
   "language": "python",
   "name": "python3"
  },
  "language_info": {
   "codemirror_mode": {
    "name": "ipython",
    "version": 3
   },
   "file_extension": ".py",
   "mimetype": "text/x-python",
   "name": "python",
   "nbconvert_exporter": "python",
   "pygments_lexer": "ipython3",
   "version": "3.10.5"
  },
  "orig_nbformat": 4,
  "vscode": {
   "interpreter": {
    "hash": "722d09a8781532efa226d059be4683b3974ba3e1bb8681e156130719a6eebf7f"
   }
  }
 },
 "nbformat": 4,
 "nbformat_minor": 2
}
